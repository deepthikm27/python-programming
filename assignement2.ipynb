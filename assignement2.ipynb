{
  "nbformat": 4,
  "nbformat_minor": 0,
  "metadata": {
    "colab": {
      "name": "assignement2.ipynb",
      "provenance": [],
      "collapsed_sections": [],
      "authorship_tag": "ABX9TyMBpyHIckANvsXgjDoD+Lsk",
      "include_colab_link": true
    },
    "kernelspec": {
      "display_name": "Python 3",
      "name": "python3"
    },
    "language_info": {
      "name": "python"
    }
  },
  "cells": [
    {
      "cell_type": "markdown",
      "metadata": {
        "id": "view-in-github",
        "colab_type": "text"
      },
      "source": [
        "<a href=\"https://colab.research.google.com/github/deepthikm27/python-programming/blob/main/assignement2.ipynb\" target=\"_parent\"><img src=\"https://colab.research.google.com/assets/colab-badge.svg\" alt=\"Open In Colab\"/></a>"
      ]
    },
    {
      "cell_type": "code",
      "metadata": {
        "colab": {
          "base_uri": "https://localhost:8080/"
        },
        "id": "C1AzS112lDmx",
        "outputId": "13ca4e3b-a859-4420-9370-e597fd26ef37"
      },
      "source": [
        " # get the string from the user. convert the string into list \n",
        "\n",
        "\n",
        "#Solution\n",
        "\n",
        "str_1 = 'hello        how        are      you?'\n",
        "list_1 = str_1.split()\n",
        "print(list_1)"
      ],
      "execution_count": null,
      "outputs": [
        {
          "name": "stdout",
          "output_type": "stream",
          "text": [
            "['hello', 'how', 'are', 'you?']\n"
          ]
        }
      ]
    },
    {
      "cell_type": "code",
      "metadata": {
        "colab": {
          "base_uri": "https://localhost:8080/"
        },
        "id": "TbiLcBr3nqq-",
        "outputId": "eca37fbc-f262-45c0-9c5e-73684f09ae47"
      },
      "source": [
        "str_2 = 'hello,how,are,you?'\n",
        "list_2= str_2.split()\n",
        "print(list_2)"
      ],
      "execution_count": null,
      "outputs": [
        {
          "name": "stdout",
          "output_type": "stream",
          "text": [
            "['hello,how,are,you?']\n"
          ]
        }
      ]
    },
    {
      "cell_type": "code",
      "metadata": {
        "colab": {
          "base_uri": "https://localhost:8080/"
        },
        "id": "SpqGTVyEoIuH",
        "outputId": "e3a858b0-c67a-4b82-9d3c-db5044ee4b52"
      },
      "source": [
        "# Find the bug \n",
        "# calculate the 2 to the power of 5 \n",
        "\n",
        "2**5 "
      ],
      "execution_count": null,
      "outputs": [
        {
          "data": {
            "text/plain": [
              "32"
            ]
          },
          "execution_count": 3,
          "metadata": {},
          "output_type": "execute_result"
        }
      ]
    },
    {
      "cell_type": "code",
      "metadata": {
        "colab": {
          "base_uri": "https://localhost:8080/"
        },
        "id": "7UQG7oxWo-FD",
        "outputId": "84422e14-92bd-4ea3-c7db-c757cef30846"
      },
      "source": [
        "# Develop Arithmetic calculator based on user choice the program should perform arithmetic operation (Any 7 opeations)\n",
        "\n",
        "#Solution\n",
        "\n",
        "a=10\n",
        "b=20\n",
        "print(\"Addition==>\", a+b)\n",
        "print(\"Substraction==>\", a-b)\n",
        "print(\"Mutiplication==>\",a*b)\n",
        "print(\"Division==>\",a/b)\n",
        "print(\"exponential==>\",a**b)\n",
        "print(\"Modulo==>\",a%b)\n",
        "print(\"Floor division==>\",a//b)"
      ],
      "execution_count": null,
      "outputs": [
        {
          "name": "stdout",
          "output_type": "stream",
          "text": [
            "Addition==> 30\n",
            "Substraction==> -10\n",
            "Mutiplication==> 200\n",
            "Division==> 0.5\n",
            "exponential==> 100000000000000000000\n",
            "Modulo==> 10\n",
            "Floor division==> 0\n"
          ]
        }
      ]
    },
    {
      "cell_type": "code",
      "metadata": {
        "colab": {
          "base_uri": "https://localhost:8080/"
        },
        "id": "mauZHQw24Etu",
        "outputId": "a6d2edcb-25d6-4be3-8b51-8a168bc0874c"
      },
      "source": [
        "# Write a program to prompt the user for hours and rate per hour to compute gross pay.\n",
        "# Take into account that the university gives the employee 2.5 times the hourly rate for hours worked above 50 hours.\n",
        "hrs = input(\"Enter Hours:\")\n",
        "h = float(hrs)\n",
        "xx = input(\"Enter the Rate:\")\n",
        "x = float(xx)\n",
        "if h <= 50:\n",
        " \tprint( h  * x)\n",
        "elif h > 50:\n",
        "\tprint(50* x + (h-50)*2.5*x)"
      ],
      "execution_count": null,
      "outputs": [
        {
          "name": "stdout",
          "output_type": "stream",
          "text": [
            "Enter Hours:5\n",
            "Enter the Rate:2.5\n",
            "12.5\n"
          ]
        }
      ]
    },
    {
      "cell_type": "code",
      "metadata": {
        "colab": {
          "base_uri": "https://localhost:8080/"
        },
        "id": "Sl4ToIzWRDer",
        "outputId": "08249562-399e-4585-87f5-978aeba2ef4a"
      },
      "source": [
        "# Create a list called hobbies. Create a for loop that prompts the user for a hobby 3 times, then appends each one to hobbies in the list\n",
        "# Hint 1 : List \n",
        "# Hint 2 : append \n",
        "\n",
        "my_list = []\n",
        "\n",
        "for i in range(3):\n",
        "  hobby = input(\"enter your hobby: \")\n",
        "  my_list.append(hobby)\n",
        "print(my_list)"
      ],
      "execution_count": null,
      "outputs": [
        {
          "name": "stdout",
          "output_type": "stream",
          "text": [
            "enter your hobby: singing\n",
            "enter your hobby: dancing\n",
            "enter your hobby: reading novels\n",
            "['singing', 'dancing', 'reading novels']\n"
          ]
        }
      ]
    },
    {
      "cell_type": "code",
      "metadata": {
        "colab": {
          "base_uri": "https://localhost:8080/"
        },
        "id": "RZCNWQIbV90j",
        "outputId": "1ef64b31-708c-4918-b979-63efa685c142"
      },
      "source": [
        "# Write a Python program to check whether the given integer is a multiple of both 5 and 7 . \n",
        "x = int(input(\"enter a number: \"))\n",
        "if((x % 5 == 0) and (x % 7 == 0)):\n",
        "  print(\"the given integer is a multiple of both 5 and 7\")\n",
        "else:\n",
        "  print(\"not a multiple of both 5 and 7\")\n"
      ],
      "execution_count": null,
      "outputs": [
        {
          "name": "stdout",
          "output_type": "stream",
          "text": [
            "enter a number: 35\n",
            "the given integer is a multiple of both 5 and 7\n"
          ]
        }
      ]
    },
    {
      "cell_type": "code",
      "metadata": {
        "colab": {
          "background_save": true
        },
        "id": "JoP4MCoIW3R1",
        "outputId": "b47bdbb0-c9e0-466c-baff-2706d0f6a811"
      },
      "source": [
        "# Find the error and correct the mistakes \n",
        "# the main idea of this code is to print the data from the dictionary (Data structure)\n",
        "\n",
        "phone_book = {\n",
        "'John' : [ '8592970000', 'john@xyzmail.com', 'Humpi' ],\n",
        "'Bob': [ '7994880000', 'bob@xyzmail.com','Manipal' ],\n",
        "'Tom' : [ '9749552647' , 'tom@xyzmail.com','Udupi' ] }\n",
        "\n",
        "for k,v in phone_book.items():\n",
        "  print(k, \":\", v)"
      ],
      "execution_count": null,
      "outputs": [
        {
          "name": "stdout",
          "output_type": "stream",
          "text": [
            "John : ['8592970000', 'john@xyzmail.com', 'Humpi']\n",
            "Bob : ['7994880000', 'bob@xyzmail.com', 'Manipal']\n",
            "Tom : ['9749552647', 'tom@xyzmail.com', 'Udupi']\n"
          ]
        }
      ]
    },
    {
      "cell_type": "code",
      "metadata": {
        "colab": {
          "base_uri": "https://localhost:8080/"
        },
        "id": "28JOqamGb0p2",
        "outputId": "80f2b04c-48f4-4e22-df01-fa109e04d692"
      },
      "source": [
        "# Find the bug \n",
        "# print all the numbers between 2 and 8 \n",
        "\n",
        "list = [x for x in range(10) if (x < 8) and (x > 2) ]\n",
        "print(list)"
      ],
      "execution_count": null,
      "outputs": [
        {
          "name": "stdout",
          "output_type": "stream",
          "text": [
            "[3, 4, 5, 6, 7]\n"
          ]
        }
      ]
    },
    {
      "cell_type": "code",
      "metadata": {
        "colab": {
          "base_uri": "https://localhost:8080/"
        },
        "id": "u0u4KWFaZsFd",
        "outputId": "607a503d-8419-4bda-b2e1-fc12559cfb04"
      },
      "source": [
        "# find the bug\n",
        "# Suppose you are trying to compute a signal-to-noise ratio in\n",
        "# decibels. The formula is SNRdb = 10log10(Psignal /Pnoise).\n",
        "\n",
        "import math\n",
        "signal_power = 9\n",
        "noise_power = 10\n",
        "ratio = signal_power / noise_power\n",
        "print(\"ratio: \",ratio)\n",
        "decibels = 10 * math.log10(ratio)\n",
        "print(\"decibels: \",decibels)"
      ],
      "execution_count": null,
      "outputs": [
        {
          "name": "stdout",
          "output_type": "stream",
          "text": [
            "ratio:  0.9\n",
            "decibels:  -0.4575749056067512\n"
          ]
        }
      ]
    },
    {
      "cell_type": "code",
      "metadata": {
        "colab": {
          "base_uri": "https://localhost:8080/"
        },
        "id": "WwTWolGNwDNe",
        "outputId": "82cc5751-d279-42b9-9c05-94255dae5aa6"
      },
      "source": [
        "# Check whether the number is present in the list or not \n",
        "a = int(input(\"enter a number: \"))\n",
        "List = [1, 2, 3, 4, 5]\n",
        "\n",
        "# in is used to check whether the member is present or not \n",
        "if a in List :\n",
        "  print(\"present\") \n",
        "else: \n",
        "  print(\"not present in the list\") "
      ],
      "execution_count": null,
      "outputs": [
        {
          "name": "stdout",
          "output_type": "stream",
          "text": [
            "enter a number: 1\n",
            "present\n"
          ]
        }
      ]
    },
    {
      "cell_type": "code",
      "metadata": {
        "colab": {
          "base_uri": "https://localhost:8080/"
        },
        "id": "8-KvC26bwl46",
        "outputId": "7c33a424-7d70-4065-d458-3dcb7e2d8cb1"
      },
      "source": [
        "# check whether the number is same or not \n",
        "# use of identity opeartor is \n",
        "# find the bug \n",
        "\n",
        "a=10\n",
        "b=20 \n",
        "if ( a is not b ):\n",
        "  print (\"a and b do not have same identity\")\n",
        "else:\n",
        "  print (\"a and b have same identity\")"
      ],
      "execution_count": null,
      "outputs": [
        {
          "name": "stdout",
          "output_type": "stream",
          "text": [
            "a and b do not have same identity\n"
          ]
        }
      ]
    },
    {
      "cell_type": "code",
      "metadata": {
        "colab": {
          "base_uri": "https://localhost:8080/"
        },
        "id": "dnLaVxeuy_7S",
        "outputId": "47411452-4038-4e48-9f56-4c0d10064625"
      },
      "source": [
        "# Find the bug \n",
        "\n",
        "# Prints out 0,1,2,3,4 using while loop\n",
        "count = 0\n",
        "while True:\n",
        "    print(count)\n",
        "    count += 1\n",
        "    if count >= 5:\n",
        "      break"
      ],
      "execution_count": null,
      "outputs": [
        {
          "name": "stdout",
          "output_type": "stream",
          "text": [
            "0\n",
            "1\n",
            "2\n",
            "3\n",
            "4\n"
          ]
        }
      ]
    },
    {
      "cell_type": "code",
      "metadata": {
        "colab": {
          "base_uri": "https://localhost:8080/"
        },
        "id": "wUZcnZ-xzQwQ",
        "outputId": "5fba1fce-442e-4abb-e61b-32d2b31f4dd2"
      },
      "source": [
        "# Prints out only even numbers - 2,4,6,8,10 using for loop and continue\n",
        "# find the bug \n",
        "\n",
        "for x in range(10):\n",
        "    # Check if x is even\n",
        "    if  x % 2 == 0:\n",
        "        continue\n",
        "    print(x)"
      ],
      "execution_count": null,
      "outputs": [
        {
          "name": "stdout",
          "output_type": "stream",
          "text": [
            "1\n",
            "3\n",
            "5\n",
            "7\n",
            "9\n"
          ]
        }
      ]
    },
    {
      "cell_type": "code",
      "metadata": {
        "colab": {
          "base_uri": "https://localhost:8080/"
        },
        "id": "A4Ejnfy_zhg7",
        "outputId": "6ca60d68-5d55-4b14-9cef-ea576e027d25"
      },
      "source": [
        "# Printing even and odd numbers using for loop and ternary operator\n",
        "# find the bug \n",
        "\n",
        "for i in range(10):\n",
        "    print(str(x) + \" is even number\") if(x % 2 == 0) else print(str(i) + \" is odd number\")"
      ],
      "execution_count": null,
      "outputs": [
        {
          "name": "stdout",
          "output_type": "stream",
          "text": [
            "0 is odd number\n",
            "1 is odd number\n",
            "2 is odd number\n",
            "3 is odd number\n",
            "4 is odd number\n",
            "5 is odd number\n",
            "6 is odd number\n",
            "7 is odd number\n",
            "8 is odd number\n",
            "9 is odd number\n"
          ]
        }
      ]
    },
    {
      "cell_type": "code",
      "metadata": {
        "colab": {
          "base_uri": "https://localhost:8080/"
        },
        "id": "eeyCj9U307qV",
        "outputId": "0a4152b8-8c5f-4ab3-dc6c-394d2f358f4e"
      },
      "source": [
        "# Write a program which will find all such numbers which are divisible by 7 but are not a multiple of 5,\n",
        "#between 5 and 4570 (both included).\n",
        "print(*[i for i in range(5, 4570) if i%7 and not(i%5)])"
      ],
      "execution_count": null,
      "outputs": [
        {
          "name": "stdout",
          "output_type": "stream",
          "text": [
            "5 10 15 20 25 30 40 45 50 55 60 65 75 80 85 90 95 100 110 115 120 125 130 135 145 150 155 160 165 170 180 185 190 195 200 205 215 220 225 230 235 240 250 255 260 265 270 275 285 290 295 300 305 310 320 325 330 335 340 345 355 360 365 370 375 380 390 395 400 405 410 415 425 430 435 440 445 450 460 465 470 475 480 485 495 500 505 510 515 520 530 535 540 545 550 555 565 570 575 580 585 590 600 605 610 615 620 625 635 640 645 650 655 660 670 675 680 685 690 695 705 710 715 720 725 730 740 745 750 755 760 765 775 780 785 790 795 800 810 815 820 825 830 835 845 850 855 860 865 870 880 885 890 895 900 905 915 920 925 930 935 940 950 955 960 965 970 975 985 990 995 1000 1005 1010 1020 1025 1030 1035 1040 1045 1055 1060 1065 1070 1075 1080 1090 1095 1100 1105 1110 1115 1125 1130 1135 1140 1145 1150 1160 1165 1170 1175 1180 1185 1195 1200 1205 1210 1215 1220 1230 1235 1240 1245 1250 1255 1265 1270 1275 1280 1285 1290 1300 1305 1310 1315 1320 1325 1335 1340 1345 1350 1355 1360 1370 1375 1380 1385 1390 1395 1405 1410 1415 1420 1425 1430 1440 1445 1450 1455 1460 1465 1475 1480 1485 1490 1495 1500 1510 1515 1520 1525 1530 1535 1545 1550 1555 1560 1565 1570 1580 1585 1590 1595 1600 1605 1615 1620 1625 1630 1635 1640 1650 1655 1660 1665 1670 1675 1685 1690 1695 1700 1705 1710 1720 1725 1730 1735 1740 1745 1755 1760 1765 1770 1775 1780 1790 1795 1800 1805 1810 1815 1825 1830 1835 1840 1845 1850 1860 1865 1870 1875 1880 1885 1895 1900 1905 1910 1915 1920 1930 1935 1940 1945 1950 1955 1965 1970 1975 1980 1985 1990 2000 2005 2010 2015 2020 2025 2035 2040 2045 2050 2055 2060 2070 2075 2080 2085 2090 2095 2105 2110 2115 2120 2125 2130 2140 2145 2150 2155 2160 2165 2175 2180 2185 2190 2195 2200 2210 2215 2220 2225 2230 2235 2245 2250 2255 2260 2265 2270 2280 2285 2290 2295 2300 2305 2315 2320 2325 2330 2335 2340 2350 2355 2360 2365 2370 2375 2385 2390 2395 2400 2405 2410 2420 2425 2430 2435 2440 2445 2455 2460 2465 2470 2475 2480 2490 2495 2500 2505 2510 2515 2525 2530 2535 2540 2545 2550 2560 2565 2570 2575 2580 2585 2595 2600 2605 2610 2615 2620 2630 2635 2640 2645 2650 2655 2665 2670 2675 2680 2685 2690 2700 2705 2710 2715 2720 2725 2735 2740 2745 2750 2755 2760 2770 2775 2780 2785 2790 2795 2805 2810 2815 2820 2825 2830 2840 2845 2850 2855 2860 2865 2875 2880 2885 2890 2895 2900 2910 2915 2920 2925 2930 2935 2945 2950 2955 2960 2965 2970 2980 2985 2990 2995 3000 3005 3015 3020 3025 3030 3035 3040 3050 3055 3060 3065 3070 3075 3085 3090 3095 3100 3105 3110 3120 3125 3130 3135 3140 3145 3155 3160 3165 3170 3175 3180 3190 3195 3200 3205 3210 3215 3225 3230 3235 3240 3245 3250 3260 3265 3270 3275 3280 3285 3295 3300 3305 3310 3315 3320 3330 3335 3340 3345 3350 3355 3365 3370 3375 3380 3385 3390 3400 3405 3410 3415 3420 3425 3435 3440 3445 3450 3455 3460 3470 3475 3480 3485 3490 3495 3505 3510 3515 3520 3525 3530 3540 3545 3550 3555 3560 3565 3575 3580 3585 3590 3595 3600 3610 3615 3620 3625 3630 3635 3645 3650 3655 3660 3665 3670 3680 3685 3690 3695 3700 3705 3715 3720 3725 3730 3735 3740 3750 3755 3760 3765 3770 3775 3785 3790 3795 3800 3805 3810 3820 3825 3830 3835 3840 3845 3855 3860 3865 3870 3875 3880 3890 3895 3900 3905 3910 3915 3925 3930 3935 3940 3945 3950 3960 3965 3970 3975 3980 3985 3995 4000 4005 4010 4015 4020 4030 4035 4040 4045 4050 4055 4065 4070 4075 4080 4085 4090 4100 4105 4110 4115 4120 4125 4135 4140 4145 4150 4155 4160 4170 4175 4180 4185 4190 4195 4205 4210 4215 4220 4225 4230 4240 4245 4250 4255 4260 4265 4275 4280 4285 4290 4295 4300 4310 4315 4320 4325 4330 4335 4345 4350 4355 4360 4365 4370 4380 4385 4390 4395 4400 4405 4415 4420 4425 4430 4435 4440 4450 4455 4460 4465 4470 4475 4485 4490 4495 4500 4505 4510 4520 4525 4530 4535 4540 4545 4555 4560 4565\n"
          ]
        }
      ]
    },
    {
      "cell_type": "code",
      "metadata": {
        "id": "Sa6TY06d5RMH",
        "colab": {
          "base_uri": "https://localhost:8080/"
        },
        "outputId": "8c0c03c4-b2f1-43f5-dcaf-0b3a391e7dc6"
      },
      "source": [
        "# Write a program which accepts input to convert the temperature from one unit to another based on user choice \n",
        "# fahrenheit to celsius or celsius to fahrenheit until they say \"Quit\".\n",
        "\n",
        "# Hint: infinite loop\n",
        "\n",
        "print(\"Please select operation -\\n\" \\\n",
        "        \"1. fahrenheit to celsius\\n\" \\\n",
        "        \"2. celsius to fahrenheit\\n\" \\\n",
        "        \"3. quit \\n\" )\n",
        "select = int(input(\"select the opertion :1 ,2 ,3\\n\"))\n",
        "if select == 1:\n",
        " f= int(input(\"Enter the fahrenheit value: \"))\n",
        " cel= (f -32.0)*(5.0/9.0)\n",
        " print(cel)\n",
        "elif select == 2:\n",
        "  c = int(input(\"Enter the celsius value: \"))\n",
        "  feh = (c + 32.0)*(9.0/5.0)\n",
        "  print(fah)\n",
        "else :\n",
        "  print(\"quit\")"
      ],
      "execution_count": null,
      "outputs": [
        {
          "output_type": "stream",
          "name": "stdout",
          "text": [
            "Please select operation -\n",
            "1. fahrenheit to celsius\n",
            "2. celsius to fahrenheit\n",
            "3. quit \n",
            "\n",
            "select the opertion :1 ,2 ,3\n",
            "1\n",
            "Enter the fahrenheit value: 77\n",
            "25.0\n"
          ]
        }
      ]
    }
  ]
}