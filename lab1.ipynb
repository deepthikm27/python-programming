{
  "nbformat": 4,
  "nbformat_minor": 0,
  "metadata": {
    "colab": {
      "name": "lab1.ipynb",
      "provenance": [],
      "include_colab_link": true
    },
    "kernelspec": {
      "display_name": "Python 3",
      "name": "python3"
    },
    "language_info": {
      "name": "python"
    }
  },
  "cells": [
    {
      "cell_type": "markdown",
      "metadata": {
        "id": "view-in-github",
        "colab_type": "text"
      },
      "source": [
        "<a href=\"https://colab.research.google.com/github/deepthikm27/python-programming/blob/main/lab1.ipynb\" target=\"_parent\"><img src=\"https://colab.research.google.com/assets/colab-badge.svg\" alt=\"Open In Colab\"/></a>"
      ]
    },
    {
      "cell_type": "code",
      "metadata": {
        "colab": {
          "base_uri": "https://localhost:8080/",
          "height": 52
        },
        "id": "43jjIJ5dsBJL",
        "outputId": "0f278de8-f140-4673-ca37-778e0c9f42ac"
      },
      "source": [
        "input(\"enter your name: \")"
      ],
      "execution_count": null,
      "outputs": [
        {
          "name": "stdout",
          "output_type": "stream",
          "text": [
            "enter your name: deepthi\n"
          ]
        },
        {
          "data": {
            "application/vnd.google.colaboratory.intrinsic+json": {
              "type": "string"
            },
            "text/plain": [
              "'deepthi'"
            ]
          },
          "execution_count": 1,
          "metadata": {},
          "output_type": "execute_result"
        }
      ]
    },
    {
      "cell_type": "code",
      "metadata": {
        "colab": {
          "base_uri": "https://localhost:8080/"
        },
        "id": "1MhCxXjcsy76",
        "outputId": "c5329ae3-47bf-494d-800f-23be219c77eb"
      },
      "source": [
        "print(\"hello world\")"
      ],
      "execution_count": null,
      "outputs": [
        {
          "name": "stdout",
          "output_type": "stream",
          "text": [
            "hello world\n"
          ]
        }
      ]
    },
    {
      "cell_type": "code",
      "metadata": {
        "colab": {
          "base_uri": "https://localhost:8080/"
        },
        "id": "wZvKg-NSs57B",
        "outputId": "7ece6749-6d1f-44ba-ce0a-66775ce6c5da"
      },
      "source": [
        "var1 = 30\n",
        "print(var1)"
      ],
      "execution_count": null,
      "outputs": [
        {
          "name": "stdout",
          "output_type": "stream",
          "text": [
            "30\n"
          ]
        }
      ]
    },
    {
      "cell_type": "code",
      "metadata": {
        "colab": {
          "base_uri": "https://localhost:8080/"
        },
        "id": "CFd_mrZQtAWC",
        "outputId": "ec7a7ebf-7a63-4385-8979-26a2bbca668f"
      },
      "source": [
        "a = 25\n",
        "type(a)"
      ],
      "execution_count": null,
      "outputs": [
        {
          "data": {
            "text/plain": [
              "int"
            ]
          },
          "execution_count": 4,
          "metadata": {},
          "output_type": "execute_result"
        }
      ]
    },
    {
      "cell_type": "code",
      "metadata": {
        "colab": {
          "base_uri": "https://localhost:8080/"
        },
        "id": "SrPA5Dvft4wq",
        "outputId": "ab25a476-c3c6-4693-80a8-f30226f29693"
      },
      "source": [
        "a = 10\n",
        "b = 36.9\n",
        "c = \"python\"\n",
        "d = 4>2\n",
        "\n",
        "print(a)\n",
        "print(b)\n",
        "print(c)\n",
        "print(d)\n"
      ],
      "execution_count": null,
      "outputs": [
        {
          "name": "stdout",
          "output_type": "stream",
          "text": [
            "10\n",
            "36.9\n",
            "python\n",
            "True\n"
          ]
        }
      ]
    },
    {
      "cell_type": "code",
      "metadata": {
        "colab": {
          "base_uri": "https://localhost:8080/"
        },
        "id": "thQmTZgBu_TC",
        "outputId": "b31d3cf8-fae6-405e-9b09-397c8769569a"
      },
      "source": [
        "print(bool())"
      ],
      "execution_count": null,
      "outputs": [
        {
          "name": "stdout",
          "output_type": "stream",
          "text": [
            "False\n"
          ]
        }
      ]
    },
    {
      "cell_type": "code",
      "metadata": {
        "colab": {
          "base_uri": "https://localhost:8080/"
        },
        "id": "k9THhaucvSpB",
        "outputId": "7adad952-f5b5-469e-c9d3-6908f5e760c0"
      },
      "source": [
        "print(bool(\"hello\"))\n",
        "print(bool(30))"
      ],
      "execution_count": null,
      "outputs": [
        {
          "name": "stdout",
          "output_type": "stream",
          "text": [
            "True\n",
            "True\n"
          ]
        }
      ]
    },
    {
      "cell_type": "code",
      "metadata": {
        "colab": {
          "base_uri": "https://localhost:8080/"
        },
        "id": "Z_--isd6vi0y",
        "outputId": "fa045351-4db5-4db6-bfdf-e081db198484"
      },
      "source": [
        "a = \"deepthi\"\n",
        "b = \"\"    \n",
        "c = 0   \n",
        "d = [\"mangalore\",\"manipal\",\"udupi\"] #returns true for lists\n",
        "print(bool(a))\n",
        "print(bool(b))\n",
        "print(bool(c))\n",
        "print(bool(d))"
      ],
      "execution_count": null,
      "outputs": [
        {
          "name": "stdout",
          "output_type": "stream",
          "text": [
            "True\n",
            "False\n",
            "False\n",
            "True\n"
          ]
        }
      ]
    },
    {
      "cell_type": "code",
      "metadata": {
        "colab": {
          "base_uri": "https://localhost:8080/"
        },
        "id": "Om0NUXX4w8SB",
        "outputId": "8e86cc54-ae15-4eb2-831d-9127c5e47c43"
      },
      "source": [
        "x = 350\n",
        "y = 20.34\n",
        "z = x + y\n",
        "print(\"x:\",x,type(x))       #implicit type conversion\n",
        "print(\"y:\",y,type(y))\n",
        "print(\"x + y: \",z)\n",
        "print(type(z))\n"
      ],
      "execution_count": null,
      "outputs": [
        {
          "name": "stdout",
          "output_type": "stream",
          "text": [
            "x: 350 <class 'int'>\n",
            "y: 20.34 <class 'float'>\n",
            "x + y:  370.34\n",
            "<class 'float'>\n"
          ]
        }
      ]
    },
    {
      "cell_type": "code",
      "metadata": {
        "colab": {
          "base_uri": "https://localhost:8080/"
        },
        "id": "wYgHt3lPyULA",
        "outputId": "f4ea3a94-c9dd-40b1-d1fb-26fb32f52b9b"
      },
      "source": [
        "num1 = 250\n",
        "str1 = \"300\"\n",
        "print(\"num1: \",num1,type(num1))                 \n",
        "print(\"str1: \",str1,type(str1))\n",
        "str1 = int(str1)                #explicit type conversion\n",
        "print(\"after type conversion: \",type(str1))"
      ],
      "execution_count": null,
      "outputs": [
        {
          "name": "stdout",
          "output_type": "stream",
          "text": [
            "num1:  250 <class 'int'>\n",
            "str1:  300 <class 'str'>\n",
            "after type conversion:  <class 'int'>\n"
          ]
        }
      ]
    },
    {
      "cell_type": "code",
      "metadata": {
        "colab": {
          "base_uri": "https://localhost:8080/"
        },
        "id": "naQMe6f-zYKX",
        "outputId": "def4cef4-5da1-44d6-9917-4659182bee00"
      },
      "source": [
        "import math\n",
        "pi = 3.14\n",
        "a = 4\n",
        "print(pi * pi)\n",
        "print(pow(pi,4))\n",
        "print(pow(pi,0))\n",
        "print(int(pow(pi,0)))\n",
        "print(math.sqrt(pi))\n",
        "print(\"square root of 4 square: \",math.sqrt(a*a))"
      ],
      "execution_count": null,
      "outputs": [
        {
          "name": "stdout",
          "output_type": "stream",
          "text": [
            "9.8596\n",
            "97.21171216000002\n",
            "1.0\n",
            "1\n",
            "1.772004514666935\n",
            "square root of 4 square:  4.0\n"
          ]
        }
      ]
    },
    {
      "cell_type": "code",
      "metadata": {
        "colab": {
          "base_uri": "https://localhost:8080/"
        },
        "id": "uA5ALcSj0na3",
        "outputId": "a5dbaa09-40c3-4dc5-923e-b574ac0ce283"
      },
      "source": [
        "a = 77\n",
        "print(a)\n",
        "b == 4\n",
        "\n"
      ],
      "execution_count": null,
      "outputs": [
        {
          "name": "stdout",
          "output_type": "stream",
          "text": [
            "77\n"
          ]
        },
        {
          "data": {
            "text/plain": [
              "False"
            ]
          },
          "execution_count": 47,
          "metadata": {},
          "output_type": "execute_result"
        }
      ]
    },
    {
      "cell_type": "code",
      "metadata": {
        "colab": {
          "base_uri": "https://localhost:8080/"
        },
        "id": "XxZKerEJ23XO",
        "outputId": "5582c2e0-e96c-4837-b829-495152cabfe3"
      },
      "source": [
        "fast_track_c = 57\n",
        "fast_track_python = 40\n",
        "if fast_track_c > fast_track_python:\n",
        "  print(\"fast track c has more problems in assignment than in fast track python program\")\n",
        "else:\n",
        "  print(\"enjoy!\")"
      ],
      "execution_count": null,
      "outputs": [
        {
          "name": "stdout",
          "output_type": "stream",
          "text": [
            "fast track c has more problems in assignment than in fast track python program\n"
          ]
        }
      ]
    },
    {
      "cell_type": "code",
      "metadata": {
        "colab": {
          "base_uri": "https://localhost:8080/"
        },
        "id": "uMiTYqfJ8AtT",
        "outputId": "26ee5648-87b9-4b71-bbdf-440cde0f9da1"
      },
      "source": [
        "a = \"msis\"\n",
        "for i in a:\n",
        "  print(i)"
      ],
      "execution_count": null,
      "outputs": [
        {
          "name": "stdout",
          "output_type": "stream",
          "text": [
            "m\n",
            "s\n",
            "i\n",
            "s\n"
          ]
        }
      ]
    },
    {
      "cell_type": "code",
      "metadata": {
        "colab": {
          "base_uri": "https://localhost:8080/"
        },
        "id": "3OZYLa39-6yL",
        "outputId": "a7ef8c77-842b-45d0-ecfa-e7ccb035b202"
      },
      "source": [
        "a = \"A\"\n",
        "print(ord(a))\n",
        "print(a.isupper())\n",
        "print(a.islower())\n",
        "print(a.lower())"
      ],
      "execution_count": null,
      "outputs": [
        {
          "name": "stdout",
          "output_type": "stream",
          "text": [
            "65\n",
            "True\n",
            "False\n",
            "a\n"
          ]
        }
      ]
    },
    {
      "cell_type": "code",
      "metadata": {
        "id": "bcLcZOEtBN9V"
      },
      "source": [
        ""
      ],
      "execution_count": null,
      "outputs": []
    },
    {
      "cell_type": "markdown",
      "metadata": {
        "id": "lcggkaVpBRto"
      },
      "source": [
        "**ASSIGNEMENT**"
      ]
    },
    {
      "cell_type": "code",
      "metadata": {
        "colab": {
          "base_uri": "https://localhost:8080/"
        },
        "id": "xsB7zweUBZt4",
        "outputId": "fb27607e-d264-46de-ab1b-823956c92550"
      },
      "source": [
        "# print your name \n",
        "print(\"Deepthi K\")\n",
        "\n",
        "# print your hobbies \n",
        "print(\"singing\")\n",
        "\n",
        "# print your registration number\n",
        "print(\"211058022\")"
      ],
      "execution_count": null,
      "outputs": [
        {
          "name": "stdout",
          "output_type": "stream",
          "text": [
            "Deepthi K\n",
            "singing\n",
            "211058022\n"
          ]
        }
      ]
    },
    {
      "cell_type": "code",
      "metadata": {
        "colab": {
          "base_uri": "https://localhost:8080/"
        },
        "id": "DCLz-JjnBLJh",
        "outputId": "991ad82c-6d2d-4ce9-db60-9e988d5b91b7"
      },
      "source": [
        "# how to get more information about print functions \n",
        "help(print)\n",
        "\n",
        "# how to get more infromation about math module \n",
        "help(math)\n",
        "\n",
        "# how to get more information about symbols \n",
        "help()"
      ],
      "execution_count": null,
      "outputs": [
        {
          "name": "stdout",
          "output_type": "stream",
          "text": [
            "Help on built-in function print in module builtins:\n",
            "\n",
            "print(...)\n",
            "    print(value, ..., sep=' ', end='\\n', file=sys.stdout, flush=False)\n",
            "    \n",
            "    Prints the values to a stream, or to sys.stdout by default.\n",
            "    Optional keyword arguments:\n",
            "    file:  a file-like object (stream); defaults to the current sys.stdout.\n",
            "    sep:   string inserted between values, default a space.\n",
            "    end:   string appended after the last value, default a newline.\n",
            "    flush: whether to forcibly flush the stream.\n",
            "\n",
            "Help on built-in module math:\n",
            "\n",
            "NAME\n",
            "    math\n",
            "\n",
            "DESCRIPTION\n",
            "    This module provides access to the mathematical functions\n",
            "    defined by the C standard.\n",
            "\n",
            "FUNCTIONS\n",
            "    acos(x, /)\n",
            "        Return the arc cosine (measured in radians) of x.\n",
            "    \n",
            "    acosh(x, /)\n",
            "        Return the inverse hyperbolic cosine of x.\n",
            "    \n",
            "    asin(x, /)\n",
            "        Return the arc sine (measured in radians) of x.\n",
            "    \n",
            "    asinh(x, /)\n",
            "        Return the inverse hyperbolic sine of x.\n",
            "    \n",
            "    atan(x, /)\n",
            "        Return the arc tangent (measured in radians) of x.\n",
            "    \n",
            "    atan2(y, x, /)\n",
            "        Return the arc tangent (measured in radians) of y/x.\n",
            "        \n",
            "        Unlike atan(y/x), the signs of both x and y are considered.\n",
            "    \n",
            "    atanh(x, /)\n",
            "        Return the inverse hyperbolic tangent of x.\n",
            "    \n",
            "    ceil(x, /)\n",
            "        Return the ceiling of x as an Integral.\n",
            "        \n",
            "        This is the smallest integer >= x.\n",
            "    \n",
            "    copysign(x, y, /)\n",
            "        Return a float with the magnitude (absolute value) of x but the sign of y.\n",
            "        \n",
            "        On platforms that support signed zeros, copysign(1.0, -0.0)\n",
            "        returns -1.0.\n",
            "    \n",
            "    cos(x, /)\n",
            "        Return the cosine of x (measured in radians).\n",
            "    \n",
            "    cosh(x, /)\n",
            "        Return the hyperbolic cosine of x.\n",
            "    \n",
            "    degrees(x, /)\n",
            "        Convert angle x from radians to degrees.\n",
            "    \n",
            "    erf(x, /)\n",
            "        Error function at x.\n",
            "    \n",
            "    erfc(x, /)\n",
            "        Complementary error function at x.\n",
            "    \n",
            "    exp(x, /)\n",
            "        Return e raised to the power of x.\n",
            "    \n",
            "    expm1(x, /)\n",
            "        Return exp(x)-1.\n",
            "        \n",
            "        This function avoids the loss of precision involved in the direct evaluation of exp(x)-1 for small x.\n",
            "    \n",
            "    fabs(x, /)\n",
            "        Return the absolute value of the float x.\n",
            "    \n",
            "    factorial(x, /)\n",
            "        Find x!.\n",
            "        \n",
            "        Raise a ValueError if x is negative or non-integral.\n",
            "    \n",
            "    floor(x, /)\n",
            "        Return the floor of x as an Integral.\n",
            "        \n",
            "        This is the largest integer <= x.\n",
            "    \n",
            "    fmod(x, y, /)\n",
            "        Return fmod(x, y), according to platform C.\n",
            "        \n",
            "        x % y may differ.\n",
            "    \n",
            "    frexp(x, /)\n",
            "        Return the mantissa and exponent of x, as pair (m, e).\n",
            "        \n",
            "        m is a float and e is an int, such that x = m * 2.**e.\n",
            "        If x is 0, m and e are both 0.  Else 0.5 <= abs(m) < 1.0.\n",
            "    \n",
            "    fsum(seq, /)\n",
            "        Return an accurate floating point sum of values in the iterable seq.\n",
            "        \n",
            "        Assumes IEEE-754 floating point arithmetic.\n",
            "    \n",
            "    gamma(x, /)\n",
            "        Gamma function at x.\n",
            "    \n",
            "    gcd(x, y, /)\n",
            "        greatest common divisor of x and y\n",
            "    \n",
            "    hypot(x, y, /)\n",
            "        Return the Euclidean distance, sqrt(x*x + y*y).\n",
            "    \n",
            "    isclose(a, b, *, rel_tol=1e-09, abs_tol=0.0)\n",
            "        Determine whether two floating point numbers are close in value.\n",
            "        \n",
            "          rel_tol\n",
            "            maximum difference for being considered \"close\", relative to the\n",
            "            magnitude of the input values\n",
            "          abs_tol\n",
            "            maximum difference for being considered \"close\", regardless of the\n",
            "            magnitude of the input values\n",
            "        \n",
            "        Return True if a is close in value to b, and False otherwise.\n",
            "        \n",
            "        For the values to be considered close, the difference between them\n",
            "        must be smaller than at least one of the tolerances.\n",
            "        \n",
            "        -inf, inf and NaN behave similarly to the IEEE 754 Standard.  That\n",
            "        is, NaN is not close to anything, even itself.  inf and -inf are\n",
            "        only close to themselves.\n",
            "    \n",
            "    isfinite(x, /)\n",
            "        Return True if x is neither an infinity nor a NaN, and False otherwise.\n",
            "    \n",
            "    isinf(x, /)\n",
            "        Return True if x is a positive or negative infinity, and False otherwise.\n",
            "    \n",
            "    isnan(x, /)\n",
            "        Return True if x is a NaN (not a number), and False otherwise.\n",
            "    \n",
            "    ldexp(x, i, /)\n",
            "        Return x * (2**i).\n",
            "        \n",
            "        This is essentially the inverse of frexp().\n",
            "    \n",
            "    lgamma(x, /)\n",
            "        Natural logarithm of absolute value of Gamma function at x.\n",
            "    \n",
            "    log(...)\n",
            "        log(x, [base=math.e])\n",
            "        Return the logarithm of x to the given base.\n",
            "        \n",
            "        If the base not specified, returns the natural logarithm (base e) of x.\n",
            "    \n",
            "    log10(x, /)\n",
            "        Return the base 10 logarithm of x.\n",
            "    \n",
            "    log1p(x, /)\n",
            "        Return the natural logarithm of 1+x (base e).\n",
            "        \n",
            "        The result is computed in a way which is accurate for x near zero.\n",
            "    \n",
            "    log2(x, /)\n",
            "        Return the base 2 logarithm of x.\n",
            "    \n",
            "    modf(x, /)\n",
            "        Return the fractional and integer parts of x.\n",
            "        \n",
            "        Both results carry the sign of x and are floats.\n",
            "    \n",
            "    pow(x, y, /)\n",
            "        Return x**y (x to the power of y).\n",
            "    \n",
            "    radians(x, /)\n",
            "        Convert angle x from degrees to radians.\n",
            "    \n",
            "    remainder(x, y, /)\n",
            "        Difference between x and the closest integer multiple of y.\n",
            "        \n",
            "        Return x - n*y where n*y is the closest integer multiple of y.\n",
            "        In the case where x is exactly halfway between two multiples of\n",
            "        y, the nearest even value of n is used. The result is always exact.\n",
            "    \n",
            "    sin(x, /)\n",
            "        Return the sine of x (measured in radians).\n",
            "    \n",
            "    sinh(x, /)\n",
            "        Return the hyperbolic sine of x.\n",
            "    \n",
            "    sqrt(x, /)\n",
            "        Return the square root of x.\n",
            "    \n",
            "    tan(x, /)\n",
            "        Return the tangent of x (measured in radians).\n",
            "    \n",
            "    tanh(x, /)\n",
            "        Return the hyperbolic tangent of x.\n",
            "    \n",
            "    trunc(x, /)\n",
            "        Truncates the Real x to the nearest Integral toward 0.\n",
            "        \n",
            "        Uses the __trunc__ magic method.\n",
            "\n",
            "DATA\n",
            "    e = 2.718281828459045\n",
            "    inf = inf\n",
            "    nan = nan\n",
            "    pi = 3.141592653589793\n",
            "    tau = 6.283185307179586\n",
            "\n",
            "FILE\n",
            "    (built-in)\n",
            "\n",
            "\n",
            "\n",
            "Welcome to Python 3.7's help utility!\n",
            "\n",
            "If this is your first time using Python, you should definitely check out\n",
            "the tutorial on the Internet at https://docs.python.org/3.7/tutorial/.\n",
            "\n",
            "Enter the name of any module, keyword, or topic to get help on writing\n",
            "Python programs and using Python modules.  To quit this help utility and\n",
            "return to the interpreter, just type \"quit\".\n",
            "\n",
            "To get a list of available modules, keywords, symbols, or topics, type\n",
            "\"modules\", \"keywords\", \"symbols\", or \"topics\".  Each module also comes\n",
            "with a one-line summary of what it does; to list the modules whose name\n",
            "or summary contain a given string such as \"spam\", type \"modules spam\".\n",
            "\n",
            "\n",
            "Here is a list of the punctuation symbols which Python assigns special meaning\n",
            "to. Enter any symbol to get more help.\n",
            "\n",
            "!=                  +                   <=                  __\n",
            "\"                   +=                  <>                  `\n",
            "\"\"\"                 ,                   ==                  b\"\n",
            "%                   -                   >                   b'\n",
            "%=                  -=                  >=                  f\"\n",
            "&                   .                   >>                  f'\n",
            "&=                  ...                 >>=                 j\n",
            "'                   /                   @                   r\"\n",
            "'''                 //                  J                   r'\n",
            "(                   //=                 [                   u\"\n",
            ")                   /=                  \\                   u'\n",
            "*                   :                   ]                   |\n",
            "**                  <                   ^                   |=\n",
            "**=                 <<                  ^=                  ~\n",
            "*=                  <<=                 _                   \n",
            "\n",
            "Augmented assignment statements\n",
            "*******************************\n",
            "\n",
            "Augmented assignment is the combination, in a single statement, of a\n",
            "binary operation and an assignment statement:\n",
            "\n",
            "   augmented_assignment_stmt ::= augtarget augop (expression_list | yield_expression)\n",
            "   augtarget                 ::= identifier | attributeref | subscription | slicing\n",
            "   augop                     ::= \"+=\" | \"-=\" | \"*=\" | \"@=\" | \"/=\" | \"//=\" | \"%=\" | \"**=\"\n",
            "             | \">>=\" | \"<<=\" | \"&=\" | \"^=\" | \"|=\"\n",
            "\n",
            "(See section Primaries for the syntax definitions of the last three\n",
            "symbols.)\n",
            "\n",
            "An augmented assignment evaluates the target (which, unlike normal\n",
            "assignment statements, cannot be an unpacking) and the expression\n",
            "list, performs the binary operation specific to the type of assignment\n",
            "on the two operands, and assigns the result to the original target.\n",
            "The target is only evaluated once.\n",
            "\n",
            "An augmented assignment expression like \"x += 1\" can be rewritten as\n",
            "\"x = x + 1\" to achieve a similar, but not exactly equal effect. In the\n",
            "augmented version, \"x\" is only evaluated once. Also, when possible,\n",
            "the actual operation is performed *in-place*, meaning that rather than\n",
            "creating a new object and assigning that to the target, the old object\n",
            "is modified instead.\n",
            "\n",
            "Unlike normal assignments, augmented assignments evaluate the left-\n",
            "hand side *before* evaluating the right-hand side.  For example, \"a[i]\n",
            "+= f(x)\" first looks-up \"a[i]\", then it evaluates \"f(x)\" and performs\n",
            "the addition, and lastly, it writes the result back to \"a[i]\".\n",
            "\n",
            "With the exception of assigning to tuples and multiple targets in a\n",
            "single statement, the assignment done by augmented assignment\n",
            "statements is handled the same way as normal assignments. Similarly,\n",
            "with the exception of the possible *in-place* behavior, the binary\n",
            "operation performed by augmented assignment is the same as the normal\n",
            "binary operations.\n",
            "\n",
            "For targets which are attribute references, the same caveat about\n",
            "class and instance attributes applies as for regular assignments.\n",
            "\n",
            "Related help topics: NUMBERMETHODS\n",
            "\n"
          ]
        }
      ]
    },
    {
      "cell_type": "code",
      "metadata": {
        "id": "RajOl4MEEpS3"
      },
      "source": [
        "# store your role model name in the variable \"role\"\n",
        "role = \"swami vivekananda\"\n",
        "\n",
        "# describe your role model in the variable \"role_desc\"\n",
        "role_desc = \"youth icon\"\n",
        "\n",
        "# store the numeric value in the variable \"my_values\"\n",
        "my_values = 12\n",
        "print(my_values)"
      ],
      "execution_count": null,
      "outputs": []
    },
    {
      "cell_type": "code",
      "metadata": {
        "colab": {
          "base_uri": "https://localhost:8080/"
        },
        "id": "cUenFYVCGtBp",
        "outputId": "3b2b0a6c-653c-4ac0-dd27-74eebb52d705"
      },
      "source": [
        "#If your run a 1000 Kilo Meter race in 143 minutes 30 seconds, what is your average time per mile? What is your average speed in miles per hour? \n",
        "\n",
        "minutes = 143.5\n",
        "hours = minutes / 60\n",
        "\n",
        "km_per_mile = 1.61\n",
        "km = 1000\n",
        "miles = km / km_per_mile \n",
        "\n",
        "pace = minutes / miles\n",
        "mph = miles / hours\n",
        "\n",
        "print('Pace in minutes per mile:', pace)\n",
        "print('Average speed in mph:', mph)"
      ],
      "execution_count": null,
      "outputs": [
        {
          "name": "stdout",
          "output_type": "stream",
          "text": [
            "Pace in minutes per mile: 0.231035\n",
            "Average speed in mph: 259.7009111173632\n"
          ]
        }
      ]
    },
    {
      "cell_type": "code",
      "metadata": {
        "colab": {
          "base_uri": "https://localhost:8080/"
        },
        "id": "rbXtO61Yk0h-",
        "outputId": "ddf514b0-1fe6-44dc-acd5-1db639f96574"
      },
      "source": [
        "#Suppose the cover price of a python book  is  577.95, but bookstores get a 40% discount.\n",
        "# Shipping costs  150 for the first copy and 50 Rupees for each additional copy. What is the total wholesale cost for 60 copies?\n",
        "\n",
        "bookcost = 577.95\n",
        "num_of_books = 60\n",
        "\n",
        "def cost(num_of_books):\n",
        "  bulkBookCost = ((bookcost * 0.60) * num_of_books)\n",
        "  shippingCost = (150 + (50 * (num_of_books - 1)))\n",
        "  totalCost = bulkBookCost + shippingCost\n",
        "  print('The total cost is: Rs', totalCost)\n",
        "\n",
        "cost(num_of_books)\n"
      ],
      "execution_count": null,
      "outputs": [
        {
          "name": "stdout",
          "output_type": "stream",
          "text": [
            "The total cost is: Rs 23906.2\n"
          ]
        }
      ]
    },
    {
      "cell_type": "code",
      "metadata": {
        "colab": {
          "base_uri": "https://localhost:8080/"
        },
        "id": "dBR4X_jbmrXW",
        "outputId": "64e114ea-fbc8-4510-ca18-e77634733fd7"
      },
      "source": [
        "# write a python code to convert Centrigrade to Fahrenheit , get the value Centrigrade from the user. \n",
        "# Sample Input:\n",
        "# Enter Centrigrade:  23.5 \n",
        "\n",
        "cel = float(input(\"enter centrigrade: \"))\n",
        "fahrenheit = (cel * 1.8) + 32\n",
        "print('%.2f Celsius is: %0.2f Fahrenheit' %(cel, fahrenheit))"
      ],
      "execution_count": null,
      "outputs": [
        {
          "name": "stdout",
          "output_type": "stream",
          "text": [
            "enter centrigrade: 23.5\n",
            "23.50 Celsius is: 74.30 Fahrenheit\n"
          ]
        }
      ]
    },
    {
      "cell_type": "code",
      "metadata": {
        "colab": {
          "base_uri": "https://localhost:8080/"
        },
        "id": "Hk_Inysno5dH",
        "outputId": "bce5a5f6-69d9-44c6-91ee-c3bba18255e3"
      },
      "source": [
        "# write a python code to convert Fahrenheit to Centrigrade, get the value Fahreheit from the user. \n",
        "# Sample Input:\n",
        "# Enter Fahreheit:  23.5\n",
        "fahrenheit = float(input(\"Enter temperature in fahrenheit: \"))\n",
        "celsius = (fahrenheit - 32) * 5/9\n",
        "print('%.2f Fahrenheit is: %0.2f Celsius' %(fahrenheit, celsius))"
      ],
      "execution_count": null,
      "outputs": [
        {
          "name": "stdout",
          "output_type": "stream",
          "text": [
            "Enter temperature in fahrenheit: 23.5\n",
            "23.50 Fahrenheit is: -4.72 Celsius\n"
          ]
        }
      ]
    },
    {
      "cell_type": "code",
      "metadata": {
        "colab": {
          "base_uri": "https://localhost:8080/"
        },
        "id": "gfjPhrompES3",
        "outputId": "46f38cf1-bb3c-4a33-bafe-ab7b2646e9c8"
      },
      "source": [
        "# Write a python program of your choice which uses arithmetic operations (use both operators and functions ) with meaningful application \n",
        "a = 4\n",
        "b = 3\n",
        "\n",
        "a * b"
      ],
      "execution_count": null,
      "outputs": [
        {
          "data": {
            "text/plain": [
              "12"
            ]
          },
          "execution_count": 15,
          "metadata": {},
          "output_type": "execute_result"
        }
      ]
    },
    {
      "cell_type": "code",
      "metadata": {
        "colab": {
          "base_uri": "https://localhost:8080/"
        },
        "id": "fqRR36LKqGVG",
        "outputId": "f69fd79f-541f-4566-96cf-fa229289dbd9"
      },
      "source": [
        "# create a variable called my_neg to store  negative value \n",
        "my_neg = -40\n",
        "print(my_neg)\n",
        "\n",
        "# create a variable called my_float to store float value \n",
        "my_float = 35.6\n",
        "print(my_float)\n",
        "# create a variable called my_complex to store complex value \n",
        "my_complex = complex(2,3)\n",
        "print(my_complex)\n",
        "# Note: there a various method to create complex numbers \n",
        "\n",
        "# perform mathematical operations on complex numbers \n",
        "a = (complex(2,3)) + (complex(1,2))\n",
        "print(\"addition: \",a)\n",
        "\n",
        "b = (complex(2,3)) - (complex(1,2))\n",
        "print(\"subtraction: \",b)\n",
        "\n",
        "c = (complex(2,3)) * (complex(1,2))\n",
        "print(\"multiplication: \",c)\n",
        "\n",
        "d = (complex(2,3)) / (complex(1,2))\n",
        "print(\"division: \",d)"
      ],
      "execution_count": null,
      "outputs": [
        {
          "name": "stdout",
          "output_type": "stream",
          "text": [
            "-40\n",
            "35.6\n",
            "(2+3j)\n",
            "addition:  (3+5j)\n",
            "subtraction:  (1+1j)\n",
            "multiplication:  (-4+7j)\n",
            "division:  (1.6-0.2j)\n"
          ]
        }
      ]
    },
    {
      "cell_type": "code",
      "metadata": {
        "colab": {
          "background_save": true
        },
        "id": "D9zXw7dfeuQG",
        "outputId": "fbe8fe09-5070-4b21-b822-1a222ff95045"
      },
      "source": [
        "# create a variable called break and assign it a value of 15. what is the response and find the reason behind the behaviour.  \n",
        "break = 15\n"
      ],
      "execution_count": null,
      "outputs": [
        {
          "ename": "SyntaxError",
          "evalue": "ignored",
          "output_type": "error",
          "traceback": [
            "\u001b[0;36m  File \u001b[0;32m\"<ipython-input-1-f352dddb61ed>\"\u001b[0;36m, line \u001b[0;32m2\u001b[0m\n\u001b[0;31m    break = 15\u001b[0m\n\u001b[0m          ^\u001b[0m\n\u001b[0;31mSyntaxError\u001b[0m\u001b[0;31m:\u001b[0m invalid syntax\n"
          ]
        }
      ]
    },
    {
      "cell_type": "code",
      "metadata": {
        "id": "8yNYet2vtk7U"
      },
      "source": [
        ""
      ],
      "execution_count": null,
      "outputs": []
    },
    {
      "cell_type": "code",
      "metadata": {
        "colab": {
          "base_uri": "https://localhost:8080/"
        },
        "id": "13N8E9aotkj0",
        "outputId": "20e78465-8bb0-49c6-a122-b408212d6e36"
      },
      "source": [
        "result =\"hello world\"\n",
        "print(result[0])"
      ],
      "execution_count": null,
      "outputs": [
        {
          "name": "stdout",
          "output_type": "stream",
          "text": [
            "h\n"
          ]
        }
      ]
    },
    {
      "cell_type": "code",
      "metadata": {
        "colab": {
          "base_uri": "https://localhost:8080/"
        },
        "id": "fPrBryhHt2mp",
        "outputId": "04bbe8c9-d3a5-46e9-81a5-f7e6d35fa2ee"
      },
      "source": [
        "# String operations \n",
        "#Write a program to get the name of the guest , then greet the user using their name as part of greeting \n",
        "# Sample Input \n",
        "# Enter the Guest Name: Writer Sudha Murthy \n",
        "# Sample Output \n",
        "# I am extremly hounor to welcome Sudha Murthy to ....... \n",
        "\n",
        "name = input(\"enter your name \")\n",
        "print(\"I am extremely honored to welcome \"+name+\" to .....\")"
      ],
      "execution_count": null,
      "outputs": [
        {
          "name": "stdout",
          "output_type": "stream",
          "text": [
            "enter your name deepthi\n",
            "I am extremely honored to welcome deepthi to .....\n"
          ]
        }
      ]
    },
    {
      "cell_type": "code",
      "metadata": {
        "colab": {
          "base_uri": "https://localhost:8080/"
        },
        "id": "EkN2V3BzTyYh",
        "outputId": "5efaa33e-55d0-42dd-8a58-87a262ada441"
      },
      "source": [
        "quotes  = \"Don't judge each day by the harvest you reap but by the seeds that you plant.\"\n",
        "\n",
        "# count the total number of characters in the variable quotes \n",
        "print(len(quotes))\n",
        "\n",
        "# convert the smaller case to upper case, upper case to smaller case \n",
        "print(quotes.swapcase())\n",
        "# check whether the numeric value is present or not \n",
        "print(quotes.isnumeric())\n",
        "# Check whether the word \"harvest\" present in the string or not \n",
        "if 'harvest' in quotes:\n",
        "    print('present!')\n",
        "# replace the (.) with (!) \n",
        "text = \"hello world.\"\n",
        "x = text.replace(\".\",\"!\")\n",
        "print(x)"
      ],
      "execution_count": null,
      "outputs": [
        {
          "name": "stdout",
          "output_type": "stream",
          "text": [
            "77\n",
            "dON'T JUDGE EACH DAY BY THE HARVEST YOU REAP BUT BY THE SEEDS THAT YOU PLANT.\n",
            "False\n",
            "present!\n",
            "hello world!\n"
          ]
        }
      ]
    },
    {
      "cell_type": "code",
      "metadata": {
        "colab": {
          "base_uri": "https://localhost:8080/"
        },
        "id": "OMh2u0h0x4K-",
        "outputId": "e125d15c-8987-4072-a7be-37b1f9422b37"
      },
      "source": [
        "# Explore any 5 string build-in functions which is not discussed in the class\n",
        "# provide with suitable examples \n",
        "\n",
        "#len\n",
        "print(len(\"namaste manipal\"))\n",
        "\n",
        "#find\n",
        "string = \"betty bought some bitter butter\"\n",
        "sub = \"butter\"\n",
        "print(string.find(sub))\n",
        "\n",
        "#startswith\n",
        "sentence = \"Binary search is a classic recursive algorithm\"\n",
        "print(sentence.startswith(\"Binary\"))\n",
        "print(sentence.startswith(\"binary\"))\n",
        "\n",
        "#strip\n",
        "string = \"!....Article 370....#!\"\n",
        "string.strip(\".#!\")\n",
        "\n",
        "#zfill\n",
        "print(\"80\".zfill(3))\n",
        "print(\"360\".zfill(5))\n",
        "print(\"002\".zfill(5))\n"
      ],
      "execution_count": null,
      "outputs": [
        {
          "name": "stdout",
          "output_type": "stream",
          "text": [
            "15\n",
            "25\n",
            "True\n",
            "False\n",
            "080\n",
            "00360\n",
            "00002\n"
          ]
        }
      ]
    },
    {
      "cell_type": "code",
      "metadata": {
        "colab": {
          "base_uri": "https://localhost:8080/"
        },
        "id": "l1V2hPCA6NCr",
        "outputId": "a4f54989-0fd0-4024-ed1b-3fe6d36b342a"
      },
      "source": [
        "num_int =55\n",
        "num_str =\"34\"\n",
        "num_str = int(num_str)\n",
        "total = num_int + num_str\n",
        "print (total)\n",
        "print (type(num_int))\n",
        "print (type(num_str))\n"
      ],
      "execution_count": null,
      "outputs": [
        {
          "name": "stdout",
          "output_type": "stream",
          "text": [
            "89\n",
            "<class 'int'>\n",
            "<class 'int'>\n"
          ]
        }
      ]
    },
    {
      "cell_type": "code",
      "metadata": {
        "colab": {
          "base_uri": "https://localhost:8080/",
          "height": 248
        },
        "id": "kdG5VTJ76a2z",
        "outputId": "e2518064-0d27-4845-ae35-107538c6cca1"
      },
      "source": [
        "#Find potential sources of runtime errors in this code snippet:\n",
        "import math\n",
        "dividend = float(input(\"Please enter the dividend: \"))\n",
        "divisor = float(input(\"Please enter the divisor: \"))\n",
        "quotient = dividend / divisor\n",
        "quotient_rounded = math.round(quotient)\n"
      ],
      "execution_count": null,
      "outputs": [
        {
          "name": "stdout",
          "output_type": "stream",
          "text": [
            "Please enter the dividend: 24\n",
            "Please enter the divisor: 0\n"
          ]
        },
        {
          "ename": "ZeroDivisionError",
          "evalue": "ignored",
          "output_type": "error",
          "traceback": [
            "\u001b[0;31m---------------------------------------------------------------------------\u001b[0m",
            "\u001b[0;31mZeroDivisionError\u001b[0m                         Traceback (most recent call last)",
            "\u001b[0;32m<ipython-input-22-0b0825f24463>\u001b[0m in \u001b[0;36m<module>\u001b[0;34m()\u001b[0m\n\u001b[1;32m      3\u001b[0m \u001b[0mdividend\u001b[0m \u001b[0;34m=\u001b[0m \u001b[0mfloat\u001b[0m\u001b[0;34m(\u001b[0m\u001b[0minput\u001b[0m\u001b[0;34m(\u001b[0m\u001b[0;34m\"Please enter the dividend: \"\u001b[0m\u001b[0;34m)\u001b[0m\u001b[0;34m)\u001b[0m\u001b[0;34m\u001b[0m\u001b[0;34m\u001b[0m\u001b[0m\n\u001b[1;32m      4\u001b[0m \u001b[0mdivisor\u001b[0m \u001b[0;34m=\u001b[0m \u001b[0mfloat\u001b[0m\u001b[0;34m(\u001b[0m\u001b[0minput\u001b[0m\u001b[0;34m(\u001b[0m\u001b[0;34m\"Please enter the divisor: \"\u001b[0m\u001b[0;34m)\u001b[0m\u001b[0;34m)\u001b[0m\u001b[0;34m\u001b[0m\u001b[0;34m\u001b[0m\u001b[0m\n\u001b[0;32m----> 5\u001b[0;31m \u001b[0mquotient\u001b[0m \u001b[0;34m=\u001b[0m \u001b[0mdividend\u001b[0m \u001b[0;34m/\u001b[0m \u001b[0mdivisor\u001b[0m\u001b[0;34m\u001b[0m\u001b[0;34m\u001b[0m\u001b[0m\n\u001b[0m\u001b[1;32m      6\u001b[0m \u001b[0mquotient_rounded\u001b[0m \u001b[0;34m=\u001b[0m \u001b[0mmath\u001b[0m\u001b[0;34m.\u001b[0m\u001b[0mround\u001b[0m\u001b[0;34m(\u001b[0m\u001b[0mquotient\u001b[0m\u001b[0;34m)\u001b[0m\u001b[0;34m\u001b[0m\u001b[0;34m\u001b[0m\u001b[0m\n",
            "\u001b[0;31mZeroDivisionError\u001b[0m: float division by zero"
          ]
        }
      ]
    },
    {
      "cell_type": "code",
      "metadata": {
        "colab": {
          "base_uri": "https://localhost:8080/"
        },
        "id": "yNDpOmfoNZhD",
        "outputId": "e4448419-3c14-4855-bbb0-5b0a82213c16"
      },
      "source": [
        "# print the quotes : Don't judge each day by the harvest you reap but by the seeds that you plant.\n",
        "# Example for syntax Error \n",
        "\n",
        "print(\"Don't judge each day by the harvest you reap but by the seeds that you plant.\")"
      ],
      "execution_count": null,
      "outputs": [
        {
          "name": "stdout",
          "output_type": "stream",
          "text": [
            "Don't judge each day by the harvest you reap but by the seeds that you plant.\n"
          ]
        }
      ]
    },
    {
      "cell_type": "code",
      "metadata": {
        "colab": {
          "base_uri": "https://localhost:8080/"
        },
        "id": "qG-UqL6yPvLY",
        "outputId": "a41c6ae0-37d9-4492-e9d8-c262d48534dc"
      },
      "source": [
        "# identify the error, label the type of error and correct the error \n",
        "clas = \"plant\"          #shouldn't use class keyword as a variable name\n",
        "crop_name =\"Brinjal\"    #variable name cannot be separated by whitespace\n",
        "yeid = \"20kg\"           #units cannot be used as int. \n",
        "# print name of the class, crop name and yeid \n",
        "\n",
        "print(\"name of class\",clas)\n",
        "print(\"name of crop name\",crop_name)\n",
        "print(\"yeid\",yeid)\n",
        "\n",
        "x=10\n",
        "print(x)\n",
        "# print the value of x \n"
      ],
      "execution_count": null,
      "outputs": [
        {
          "name": "stdout",
          "output_type": "stream",
          "text": [
            "name of class plant\n",
            "name of crop name Brinjal\n",
            "yeid 20kg\n",
            "10\n"
          ]
        }
      ]
    },
    {
      "cell_type": "code",
      "metadata": {
        "colab": {
          "base_uri": "https://localhost:8080/"
        },
        "id": "y4KL5WaiL_h0",
        "outputId": "5dd5482c-855c-43c3-ef4e-86ad3f506630"
      },
      "source": [
        "# Find the errors in the coding and correct \n",
        "# formula to convert centrigrade to fahr\n",
        "\n",
        "\n",
        "C = 21                  #indentation error\n",
        "F = 9/5*C + 32\n",
        "print(F)\n",
        "C = 21.0 \n",
        "F = (9/5)*C + 32\n",
        "print(F)\n"
      ],
      "execution_count": null,
      "outputs": [
        {
          "name": "stdout",
          "output_type": "stream",
          "text": [
            "69.80000000000001\n",
            "69.80000000000001\n"
          ]
        }
      ]
    },
    {
      "cell_type": "code",
      "metadata": {
        "colab": {
          "base_uri": "https://localhost:8080/"
        },
        "id": "OEGKfzBuMe5b",
        "outputId": "7773e267-f44a-4fc4-a740-1442ed51d2eb"
      },
      "source": [
        "#Explain why the code is not working \n",
        "a = 10 \n",
        "b = 5 \n",
        "c= a + b            #before assigning values we cannot perform operations\n",
        "\n",
        "print(c)"
      ],
      "execution_count": null,
      "outputs": [
        {
          "name": "stdout",
          "output_type": "stream",
          "text": [
            "15\n"
          ]
        }
      ]
    },
    {
      "cell_type": "code",
      "metadata": {
        "colab": {
          "base_uri": "https://localhost:8080/"
        },
        "id": "YI47Zx77kag2",
        "outputId": "42ea83be-d296-402e-c636-2ebf2cdecb71"
      },
      "source": [
        "print(\"Hello, World!\")\n",
        "print(\"5\")                    #paranthesis missed\n",
        "print(\"All finished!\")"
      ],
      "execution_count": null,
      "outputs": [
        {
          "name": "stdout",
          "output_type": "stream",
          "text": [
            "Hello, World!\n",
            "5\n",
            "All finished!\n"
          ]
        }
      ]
    },
    {
      "cell_type": "code",
      "metadata": {
        "colab": {
          "base_uri": "https://localhost:8080/"
        },
        "id": "1BsRwEjLqSxE",
        "outputId": "a65be00f-d842-46e9-d9eb-b17dd85aac0d"
      },
      "source": [
        "# Print the statement, Kindly help me!\n",
        "print(\"Kindly help me!\")              "
      ],
      "execution_count": null,
      "outputs": [
        {
          "name": "stdout",
          "output_type": "stream",
          "text": [
            "Kindly help me!\n"
          ]
        }
      ]
    },
    {
      "cell_type": "code",
      "metadata": {
        "colab": {
          "base_uri": "https://localhost:8080/"
        },
        "id": "GeVaIE5lK6Xk",
        "outputId": "e015e0ee-941d-442a-e03a-a2296166c8fb"
      },
      "source": [
        "# Find the bugs in the below code, correct the mistakes and comment suggestions \n",
        "from math import pi\n",
        "h = 5.0 # height\n",
        "B = 2.0 # base\n",
        "r = 1.5 #radius                                                           #radius not commented\n",
        "area_parallelogram = h*b\n",
        "print('The area of the parallelogram is %.3f' %(area_parallelogram))       #missing paranthesis and incorrect syntax while using output format and spelling mistake in parallellogram\n",
        "area_square = b**2\n",
        "print('The area of the square is %g' %(area_square))                      #missing paranthesis and incorrect syntax while using output format\n",
        "area_circle = pi*r**2                                                     #r written as comment\n",
        "print('The area of the circle is %.3f' %(area_circle))                    #missing paranthesis and incorrect syntax while using output format\n",
        "volume_cone = 1.0/3*pi*r**2*h\n",
        "print('The volume of the cone is %.3f' %(volume_cone))                    #missing paranthesis and incorrect syntax while using output format"
      ],
      "execution_count": null,
      "outputs": [
        {
          "name": "stdout",
          "output_type": "stream",
          "text": [
            "The area of the parallelogram is 25.000\n",
            "The area of the square is 25\n",
            "The area of the circle is 7.069\n",
            "The volume of the cone is 11.781\n"
          ]
        }
      ]
    },
    {
      "cell_type": "code",
      "metadata": {
        "colab": {
          "base_uri": "https://localhost:8080/",
          "height": 231
        },
        "id": "o5pap43SGS_9",
        "outputId": "a8ba7528-61c3-4982-9d02-dad292ccf7de"
      },
      "source": [
        "# This code shows the use math module \n",
        "# Run time error and Logical Error \n",
        "import math\n",
        "from math import sin\n",
        "r= sin(c)\n",
        "\n",
        "x=2.4\n",
        "y = 2.5 + 3j\n",
        "y_new = abs(y)\n",
        "print(y_new)\n",
        "\n",
        "print(math.sin(x))\n",
        "print(math.sin(y))"
      ],
      "execution_count": null,
      "outputs": [
        {
          "ename": "NameError",
          "evalue": "ignored",
          "output_type": "error",
          "traceback": [
            "\u001b[0;31m---------------------------------------------------------------------------\u001b[0m",
            "\u001b[0;31mNameError\u001b[0m                                 Traceback (most recent call last)",
            "\u001b[0;32m<ipython-input-2-e6efb246e948>\u001b[0m in \u001b[0;36m<module>\u001b[0;34m()\u001b[0m\n\u001b[1;32m      3\u001b[0m \u001b[0;32mimport\u001b[0m \u001b[0mmath\u001b[0m\u001b[0;34m\u001b[0m\u001b[0;34m\u001b[0m\u001b[0m\n\u001b[1;32m      4\u001b[0m \u001b[0;32mfrom\u001b[0m \u001b[0mmath\u001b[0m \u001b[0;32mimport\u001b[0m \u001b[0msin\u001b[0m\u001b[0;34m\u001b[0m\u001b[0;34m\u001b[0m\u001b[0m\n\u001b[0;32m----> 5\u001b[0;31m \u001b[0mr\u001b[0m\u001b[0;34m=\u001b[0m \u001b[0msin\u001b[0m\u001b[0;34m(\u001b[0m\u001b[0mc\u001b[0m\u001b[0;34m)\u001b[0m\u001b[0;34m\u001b[0m\u001b[0;34m\u001b[0m\u001b[0m\n\u001b[0m\u001b[1;32m      6\u001b[0m \u001b[0;34m\u001b[0m\u001b[0m\n\u001b[1;32m      7\u001b[0m \u001b[0mx\u001b[0m\u001b[0;34m=\u001b[0m\u001b[0;36m2.4\u001b[0m\u001b[0;34m\u001b[0m\u001b[0;34m\u001b[0m\u001b[0m\n",
            "\u001b[0;31mNameError\u001b[0m: name 'c' is not defined"
          ]
        }
      ]
    },
    {
      "cell_type": "code",
      "metadata": {
        "colab": {
          "base_uri": "https://localhost:8080/"
        },
        "id": "AwZuxqIoEJVV",
        "outputId": "170e46b0-047b-4a15-8235-8e2618d4676d"
      },
      "source": [
        "print (\"Don't eat those cookies before dinner.\")"
      ],
      "execution_count": null,
      "outputs": [
        {
          "name": "stdout",
          "output_type": "stream",
          "text": [
            "Don't eat those cookies before dinner.\n"
          ]
        }
      ]
    },
    {
      "cell_type": "code",
      "metadata": {
        "colab": {
          "base_uri": "https://localhost:8080/"
        },
        "id": "l9ymjrwAcGE7",
        "outputId": "eb0139e4-f691-4645-d03d-4eb4a1c6115b"
      },
      "source": [
        "print ('Hello \\t \\t \\t world' )"
      ],
      "execution_count": null,
      "outputs": [
        {
          "name": "stdout",
          "output_type": "stream",
          "text": [
            "Hello \t \t \t world\n"
          ]
        }
      ]
    },
    {
      "cell_type": "code",
      "metadata": {
        "colab": {
          "base_uri": "https://localhost:8080/"
        },
        "id": "6zLCndnBhJkF",
        "outputId": "7dc78803-69fe-4c38-e0fd-b32c8036683e"
      },
      "source": [
        "print (\"I like Python Programming!\")"
      ],
      "execution_count": null,
      "outputs": [
        {
          "name": "stdout",
          "output_type": "stream",
          "text": [
            "I like Python Programming!\n"
          ]
        }
      ]
    },
    {
      "cell_type": "code",
      "metadata": {
        "colab": {
          "base_uri": "https://localhost:8080/"
        },
        "id": "p3CqLQsAhS7o",
        "outputId": "7abdd59a-fadf-4434-982d-3e9eebe46a23"
      },
      "source": [
        "print (\"The first program in any programming language is 'Hello World'.\")"
      ],
      "execution_count": null,
      "outputs": [
        {
          "name": "stdout",
          "output_type": "stream",
          "text": [
            "The first program in any programming language is 'Hello World'.\n"
          ]
        }
      ]
    },
    {
      "cell_type": "code",
      "metadata": {
        "colab": {
          "base_uri": "https://localhost:8080/"
        },
        "id": "0hlQygpy9Nto",
        "outputId": "7a691935-87d8-4f54-dfd9-0c1f8cecc8b1"
      },
      "source": [
        "# print the value of the course \n",
        "course = \"Programming with Python\"\n",
        "print (\"course\")"
      ],
      "execution_count": null,
      "outputs": [
        {
          "name": "stdout",
          "output_type": "stream",
          "text": [
            "course\n"
          ]
        }
      ]
    },
    {
      "cell_type": "code",
      "metadata": {
        "colab": {
          "base_uri": "https://localhost:8080/"
        },
        "id": "y2bSAfLTcNw8",
        "outputId": "de286b66-c918-462b-82ab-a25e7ecd1b2d"
      },
      "source": [
        "print (\"cropname\")"
      ],
      "execution_count": null,
      "outputs": [
        {
          "name": "stdout",
          "output_type": "stream",
          "text": [
            "cropname\n"
          ]
        }
      ]
    },
    {
      "cell_type": "code",
      "metadata": {
        "colab": {
          "base_uri": "https://localhost:8080/"
        },
        "id": "naQO1yYtelji",
        "outputId": "552e6606-c536-4867-8633-3993b6e30deb"
      },
      "source": [
        "# find the bug\n",
        "1/2           #space at the beginning(error)"
      ],
      "execution_count": null,
      "outputs": [
        {
          "data": {
            "text/plain": [
              "0.5"
            ]
          },
          "execution_count": 69,
          "metadata": {},
          "output_type": "execute_result"
        }
      ]
    },
    {
      "cell_type": "code",
      "metadata": {
        "colab": {
          "base_uri": "https://localhost:8080/"
        },
        "id": "ww59VvltfTN6",
        "outputId": "8ed68c5d-60a6-4dd6-b460-217ec2cac47a"
      },
      "source": [
        "profit = 1000\n",
        "#increment profit by 1\n",
        "profit += 1\n",
        "print(profit)"
      ],
      "execution_count": null,
      "outputs": [
        {
          "name": "stdout",
          "output_type": "stream",
          "text": [
            "1001\n"
          ]
        }
      ]
    },
    {
      "cell_type": "code",
      "metadata": {
        "colab": {
          "base_uri": "https://localhost:8080/"
        },
        "id": "cK7zIHHyizeI",
        "outputId": "cef5df2f-daa4-43c7-a4d3-476f2ce64acb"
      },
      "source": [
        "import math\n",
        "print(math.log(10))"
      ],
      "execution_count": null,
      "outputs": [
        {
          "name": "stdout",
          "output_type": "stream",
          "text": [
            "2.302585092994046\n"
          ]
        }
      ]
    },
    {
      "cell_type": "code",
      "metadata": {
        "colab": {
          "base_uri": "https://localhost:8080/"
        },
        "id": "kVuiqskDjy5L",
        "outputId": "8f9933f3-7a37-465c-c3d5-46a7537e060a"
      },
      "source": [
        "print(math.sin(2))"
      ],
      "execution_count": null,
      "outputs": [
        {
          "name": "stdout",
          "output_type": "stream",
          "text": [
            "0.9092974268256817\n"
          ]
        }
      ]
    },
    {
      "cell_type": "code",
      "metadata": {
        "colab": {
          "base_uri": "https://localhost:8080/"
        },
        "id": "c-ad-Nzrq77u",
        "outputId": "312fcc92-dfd3-4913-d435-c82b1d840472"
      },
      "source": [
        "num_int =55\n",
        "num_str =\"34\"\n",
        "total = num_int +int(num_str)\n",
        "print (total)\n",
        "print (type(num_int))\n",
        "print (type(num_str))\n"
      ],
      "execution_count": null,
      "outputs": [
        {
          "name": "stdout",
          "output_type": "stream",
          "text": [
            "89\n",
            "<class 'int'>\n",
            "<class 'str'>\n"
          ]
        }
      ]
    },
    {
      "cell_type": "code",
      "metadata": {
        "colab": {
          "base_uri": "https://localhost:8080/"
        },
        "id": "jPjjyFnttQmk",
        "outputId": "eed6621e-0af7-474a-abcd-61befb4a1e6e"
      },
      "source": [
        "# Trying to print the multiplication entry, but it throws error \n",
        "a = 5*6\n",
        "print(a)"
      ],
      "execution_count": null,
      "outputs": [
        {
          "name": "stdout",
          "output_type": "stream",
          "text": [
            "30\n"
          ]
        }
      ]
    },
    {
      "cell_type": "code",
      "metadata": {
        "colab": {
          "base_uri": "https://localhost:8080/"
        },
        "id": "3BbHIDfm9m8Z",
        "outputId": "3dec14c2-d2e2-4aa1-f3ad-6d19dedd1e74"
      },
      "source": [
        "# Trying to find the round of 10.2 \n",
        "round(10.2)\n"
      ],
      "execution_count": null,
      "outputs": [
        {
          "data": {
            "text/plain": [
              "10"
            ]
          },
          "execution_count": 85,
          "metadata": {},
          "output_type": "execute_result"
        }
      ]
    },
    {
      "cell_type": "code",
      "metadata": {
        "colab": {
          "base_uri": "https://localhost:8080/"
        },
        "id": "SNu9AoTc96rR",
        "outputId": "fdc429f5-6b86-4b0c-aa00-7512dedbd25d"
      },
      "source": [
        "# Trying to calculate 2 to the power of 5 \n",
        "\n",
        "pow(2,5)"
      ],
      "execution_count": null,
      "outputs": [
        {
          "data": {
            "text/plain": [
              "32"
            ]
          },
          "execution_count": 86,
          "metadata": {},
          "output_type": "execute_result"
        }
      ]
    },
    {
      "cell_type": "code",
      "metadata": {
        "colab": {
          "base_uri": "https://localhost:8080/"
        },
        "id": "RYI_-mCi_uhB",
        "outputId": "8f2e5c80-f8dc-4637-99aa-5499221f4e2f"
      },
      "source": [
        "#Trying to multiply 5 \n",
        "5*5"
      ],
      "execution_count": null,
      "outputs": [
        {
          "data": {
            "text/plain": [
              "25"
            ]
          },
          "execution_count": 88,
          "metadata": {},
          "output_type": "execute_result"
        }
      ]
    },
    {
      "cell_type": "code",
      "metadata": {
        "colab": {
          "base_uri": "https://localhost:8080/"
        },
        "id": "nBbRBfMb9JOs",
        "outputId": "6591a155-889d-4a44-d54d-234f5dd87ff0"
      },
      "source": [
        "# Trying to print the text message Hello \n",
        "\n",
        "print(\"Hello\")"
      ],
      "execution_count": null,
      "outputs": [
        {
          "name": "stdout",
          "output_type": "stream",
          "text": [
            "Hello\n"
          ]
        }
      ]
    },
    {
      "cell_type": "code",
      "metadata": {
        "colab": {
          "base_uri": "https://localhost:8080/"
        },
        "id": "79e4eQ0RbY4U",
        "outputId": "eb267a22-3fc4-41b1-d048-a9ae2cc93d2b"
      },
      "source": [
        "#store the size of the land in the variable size  in square feet \n",
        "size = 200 \n",
        "#store the income as in\n",
        "#print the value of  both size and income \n",
        "income = 9000\n",
        "print(size)\n",
        "print(income)\n",
        "cropName=\"Drumstick\"\n",
        "year_2021 = 'Drumstick'"
      ],
      "execution_count": null,
      "outputs": [
        {
          "name": "stdout",
          "output_type": "stream",
          "text": [
            "200\n",
            "9000\n"
          ]
        }
      ]
    }
  ]
}