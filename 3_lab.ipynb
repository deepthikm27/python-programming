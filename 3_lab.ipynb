{
  "nbformat": 4,
  "nbformat_minor": 0,
  "metadata": {
    "colab": {
      "name": "3_lab.ipynb",
      "provenance": [],
      "authorship_tag": "ABX9TyNmXVwXpGYUqhg5RNsyeGGC",
      "include_colab_link": true
    },
    "kernelspec": {
      "name": "python3",
      "display_name": "Python 3"
    },
    "language_info": {
      "name": "python"
    }
  },
  "cells": [
    {
      "cell_type": "markdown",
      "metadata": {
        "id": "view-in-github",
        "colab_type": "text"
      },
      "source": [
        "<a href=\"https://colab.research.google.com/github/deepthikm27/python-programming/blob/main/3_lab.ipynb\" target=\"_parent\"><img src=\"https://colab.research.google.com/assets/colab-badge.svg\" alt=\"Open In Colab\"/></a>"
      ]
    },
    {
      "cell_type": "markdown",
      "metadata": {
        "id": "P1SE0PS9TxHz"
      },
      "source": [
        "**Explore different function calls associated with each data types (Min 10 for each dat types) other than covered in class. \n",
        "Create code snippet for each operation on data type.** "
      ]
    },
    {
      "cell_type": "markdown",
      "metadata": {
        "id": "q29GywooUJXy"
      },
      "source": [
        "**1. String**\n",
        "\n",
        "**(i) format**"
      ]
    },
    {
      "cell_type": "code",
      "metadata": {
        "colab": {
          "base_uri": "https://localhost:8080/"
        },
        "id": "Tc5duF7yUtF6",
        "outputId": "b0015f1a-e0b1-404c-c4dd-7eb512d63bdd"
      },
      "source": [
        "print(\"my name is {0} and I like {1}\".format(\"deepthi\",\"python\"))\n",
        "\n",
        "t=[\"MSIS\",\"Manipal\"]\n",
        "print(\"Manipal School of Information Science ({0}),{1}\".format(*t))"
      ],
      "execution_count": null,
      "outputs": [
        {
          "output_type": "stream",
          "name": "stdout",
          "text": [
            "my name is deepthi and I like python\n",
            "Manipal School of Information Science (MSIS),Manipal\n"
          ]
        }
      ]
    },
    {
      "cell_type": "markdown",
      "metadata": {
        "id": "s0awe-5fU0U5"
      },
      "source": [
        "**(ii) split**"
      ]
    },
    {
      "cell_type": "code",
      "metadata": {
        "colab": {
          "base_uri": "https://localhost:8080/"
        },
        "id": "J1RxKyQKU8Yb",
        "outputId": "9dc7e7ba-29ed-4956-97f7-d460e4a63dfb"
      },
      "source": [
        "txt = \"lab 3 assignment\"\n",
        "x = txt.split()\n",
        "print(x)\n",
        "\n",
        "s = \"mangalore is nearer to manipal than bangalore\"\n",
        "str_list = s.split(sep=' ',maxsplit=3)\n",
        "print(str_list)\n",
        "\n",
        "str_l = s.rsplit(sep=' ', maxsplit=3)\n",
        "print(str_l)"
      ],
      "execution_count": null,
      "outputs": [
        {
          "output_type": "stream",
          "name": "stdout",
          "text": [
            "['lab', '3', 'assignment']\n",
            "['mangalore', 'is', 'nearer', 'to manipal than bangalore']\n",
            "['mangalore is nearer to', 'manipal', 'than', 'bangalore']\n"
          ]
        }
      ]
    },
    {
      "cell_type": "markdown",
      "metadata": {
        "id": "PRbp_9cvXxwR"
      },
      "source": [
        "**(iii) join**"
      ]
    },
    {
      "cell_type": "code",
      "metadata": {
        "colab": {
          "base_uri": "https://localhost:8080/"
        },
        "id": "fxreOkdxXxQm",
        "outputId": "a9ed2aac-e7e8-41cb-a794-96033df766a6"
      },
      "source": [
        "stringg = \"there are seven days in a week\"\n",
        "print(\" \".join(stringg))\n",
        "\n",
        "print(\",\".join([\"sharks\",\"crustaceans\",\"planktons\"]))\n",
        "\n",
        "stt = [\"apple\",\"orange\",\"banana\"]\n",
        "print(\" and \".join(stt))"
      ],
      "execution_count": null,
      "outputs": [
        {
          "output_type": "stream",
          "name": "stdout",
          "text": [
            "t h e r e   a r e   s e v e n   d a y s   i n   a   w e e k\n",
            "sharks,crustaceans,planktons\n",
            "apple and orange and banana\n"
          ]
        }
      ]
    },
    {
      "cell_type": "markdown",
      "metadata": {
        "id": "iqUvOTsrau-V"
      },
      "source": [
        "**(iv) replace**"
      ]
    },
    {
      "cell_type": "code",
      "metadata": {
        "colab": {
          "base_uri": "https://localhost:8080/"
        },
        "id": "xNsfvOUKa-fy",
        "outputId": "166d8e0c-8951-48fc-cc49-7395237b32e3"
      },
      "source": [
        "s1 = \"dodo\"\n",
        "s1_new = s1.replace('d','c')            #replaces each matching occurrence of the old character/text in the string with the new character/text\n",
        "print(s1_new)\n",
        "\n",
        "print(str.replace('abca', 'a', 'A'))"
      ],
      "execution_count": null,
      "outputs": [
        {
          "output_type": "stream",
          "name": "stdout",
          "text": [
            "coco\n",
            "AbcA\n"
          ]
        }
      ]
    },
    {
      "cell_type": "markdown",
      "metadata": {
        "id": "QVByKhw9cq_Y"
      },
      "source": [
        "**(v)translate**"
      ]
    },
    {
      "cell_type": "code",
      "metadata": {
        "colab": {
          "base_uri": "https://localhost:8080/"
        },
        "id": "3ztvSdKecwdE",
        "outputId": "c0acf8a3-bfa9-4425-99b3-e5f78284ef07"
      },
      "source": [
        "dict1 = {83: 80}\n",
        "txt = \"Hello Sam!\"\n",
        "\n",
        "print(txt.translate(dict1))         #returns a string where some specified characters are replaced with the character described in a dictionary, or in a mapping table.\n",
        "\n",
        "s = 'ABCDBCA'\n",
        "translation = s.maketrans('ABCD', 'abcd')\n",
        "print(s.translate(translation))"
      ],
      "execution_count": null,
      "outputs": [
        {
          "output_type": "stream",
          "name": "stdout",
          "text": [
            "Hello Pam!\n",
            "abcdbca\n"
          ]
        }
      ]
    },
    {
      "cell_type": "markdown",
      "metadata": {
        "id": "CQP74e5AdrZx"
      },
      "source": [
        "**(vi) _contains_**"
      ]
    },
    {
      "cell_type": "code",
      "metadata": {
        "colab": {
          "base_uri": "https://localhost:8080/"
        },
        "id": "IEXe5fVieT2U",
        "outputId": "1a1c5be3-83db-43d7-cab3-18a2878f83be"
      },
      "source": [
        "input_str1 = input('Please enter first input string\\n')\n",
        "\n",
        "input_str2 = input('Please enter second input string\\n')\n",
        "\n",
        "print('First Input String Contains Second String? ', input_str1.__contains__(input_str2))"
      ],
      "execution_count": null,
      "outputs": [
        {
          "output_type": "stream",
          "name": "stdout",
          "text": [
            "Please enter first input string\n",
            "deepthi\n",
            "Please enter second input string\n",
            "thi\n",
            "First Input String Contains Second String?  True\n"
          ]
        }
      ]
    },
    {
      "cell_type": "markdown",
      "metadata": {
        "id": "Mf1klWbienKj"
      },
      "source": [
        "**(vii)enumerate**"
      ]
    },
    {
      "cell_type": "code",
      "metadata": {
        "colab": {
          "base_uri": "https://localhost:8080/"
        },
        "id": "egWhmu2lgTE_",
        "outputId": "6c2ba2fc-d99c-49ec-a821-1efb1c2a92a6"
      },
      "source": [
        "my_str = \"Guru99 \"\n",
        "for i in enumerate(my_str):           #shows the index and value for each character of the string\n",
        "  print(i)"
      ],
      "execution_count": null,
      "outputs": [
        {
          "output_type": "stream",
          "name": "stdout",
          "text": [
            "(0, 'G')\n",
            "(1, 'u')\n",
            "(2, 'r')\n",
            "(3, 'u')\n",
            "(4, '9')\n",
            "(5, '9')\n",
            "(6, ' ')\n"
          ]
        }
      ]
    },
    {
      "cell_type": "markdown",
      "metadata": {
        "id": "krn-zlr2gVol"
      },
      "source": [
        "**(viii)splitlines**"
      ]
    },
    {
      "cell_type": "code",
      "metadata": {
        "colab": {
          "base_uri": "https://localhost:8080/"
        },
        "id": "xkWiE6SchIxx",
        "outputId": "82c88cd4-39c5-4ed0-e58b-2b9f9c28d6cd"
      },
      "source": [
        "txt = \"Thank you for the music\\nWelcome to the jungle\"\n",
        "\n",
        "x = txt.splitlines()      #Split a string into a list where each line is a list item\n",
        "\n",
        "print(x)\n"
      ],
      "execution_count": null,
      "outputs": [
        {
          "output_type": "stream",
          "name": "stdout",
          "text": [
            "['Thank you for the music', 'Welcome to the jungle']\n"
          ]
        }
      ]
    },
    {
      "cell_type": "markdown",
      "metadata": {
        "id": "trgUgrhqjAvl"
      },
      "source": [
        "**(ix)isalnum**"
      ]
    },
    {
      "cell_type": "code",
      "metadata": {
        "colab": {
          "base_uri": "https://localhost:8080/"
        },
        "id": "vdbNKoaEgVLl",
        "outputId": "95f0d24c-af6e-4042-cb52-4a84b1773d08"
      },
      "source": [
        "txt = \"Company12\"\n",
        "\n",
        "x = txt.isalnum()\n",
        "\n",
        "print(x)"
      ],
      "execution_count": null,
      "outputs": [
        {
          "output_type": "stream",
          "name": "stdout",
          "text": [
            "True\n"
          ]
        }
      ]
    },
    {
      "cell_type": "markdown",
      "metadata": {
        "id": "Hh4TW81vjeOE"
      },
      "source": [
        "**(x)casefold**"
      ]
    },
    {
      "cell_type": "code",
      "metadata": {
        "colab": {
          "base_uri": "https://localhost:8080/"
        },
        "id": "nzXPbwvHjtZ2",
        "outputId": "5a3c8fc4-6dc4-4538-f289-242a6ce0afb5"
      },
      "source": [
        "#returns a string where all the characters are lower case.\n",
        "s = \"DEEPTHI\"\n",
        "print(\" \",s.casefold())"
      ],
      "execution_count": null,
      "outputs": [
        {
          "output_type": "stream",
          "name": "stdout",
          "text": [
            "  deepthi\n"
          ]
        }
      ]
    },
    {
      "cell_type": "markdown",
      "metadata": {
        "id": "SRYuQvXokkMC"
      },
      "source": [
        "**2. List**"
      ]
    },
    {
      "cell_type": "markdown",
      "metadata": {
        "id": "vVBOJE0LlJzy"
      },
      "source": [
        "**(i) sort**"
      ]
    },
    {
      "cell_type": "code",
      "metadata": {
        "colab": {
          "base_uri": "https://localhost:8080/"
        },
        "id": "eVX5pMwukjy-",
        "outputId": "367fcfaf-b9a8-47ac-d548-b43d1e2d6f63"
      },
      "source": [
        "#sorts the list in ascending order\n",
        "marks = [35,90,100,76,84]\n",
        "marks.sort()\n",
        "print(marks)\n",
        "\n",
        "cars = ['Ford', 'BMW', 'Volvo']\n",
        "cars.sort()\n",
        "print(cars)\n"
      ],
      "execution_count": null,
      "outputs": [
        {
          "output_type": "stream",
          "name": "stdout",
          "text": [
            "[35, 76, 84, 90, 100]\n",
            "['BMW', 'Ford', 'Volvo']\n"
          ]
        }
      ]
    },
    {
      "cell_type": "markdown",
      "metadata": {
        "id": "QH7DX_G7mGqz"
      },
      "source": [
        "**(ii)append**"
      ]
    },
    {
      "cell_type": "code",
      "metadata": {
        "colab": {
          "base_uri": "https://localhost:8080/"
        },
        "id": "52FA8IwtmYwV",
        "outputId": "07fafd4f-ba60-49de-c601-dafde2383970"
      },
      "source": [
        "#add certain content you enter to the end of the elements that is selected\n",
        "months = ['January', 'February', 'March']\n",
        "months.append('April')\n",
        "print(months)\n",
        "\n",
        "a = ['python','java']\n",
        "b = ['C','C++']\n",
        "(a.append(b))\n",
        "print(a)"
      ],
      "execution_count": null,
      "outputs": [
        {
          "output_type": "stream",
          "name": "stdout",
          "text": [
            "['January', 'February', 'March', 'April']\n",
            "['python', 'java', ['C', 'C++']]\n"
          ]
        }
      ]
    },
    {
      "cell_type": "markdown",
      "metadata": {
        "id": "5zkDZizInOyl"
      },
      "source": [
        "**(iii)extend**"
      ]
    },
    {
      "cell_type": "code",
      "metadata": {
        "colab": {
          "base_uri": "https://localhost:8080/"
        },
        "id": "TgK_D4T-nUZG",
        "outputId": "4024d93f-4039-4a30-f3ef-0ff7e7d990b0"
      },
      "source": [
        "#adds the specified list elements (or any iterable) to the end of the current list\n",
        "GoT = ['Daenerys', 'Jon', 'Tyrion']\n",
        "Friends = ['Rachel', 'Monica', 'Phoebe']\n",
        "GoT.extend(Friends)\n",
        "print(GoT)\n",
        "\n",
        "\n",
        "#difference between append and extend\n",
        "#append appends object at the end\n",
        "x = [1, 2, 3]\n",
        "x.append([4, 5])\n",
        "print(x)\n",
        "#extend Extends list by appending elements from the iterable.\n",
        "x = [1, 2, 3]\n",
        "x.extend([4, 5])\n",
        "print(x)"
      ],
      "execution_count": null,
      "outputs": [
        {
          "output_type": "stream",
          "name": "stdout",
          "text": [
            "['Daenerys', 'Jon', 'Tyrion', 'Rachel', 'Monica', 'Phoebe']\n",
            "[1, 2, 3, [4, 5]]\n",
            "[1, 2, 3, 4, 5]\n"
          ]
        }
      ]
    },
    {
      "cell_type": "markdown",
      "metadata": {
        "id": "8m7-5unrpCWQ"
      },
      "source": [
        "**(iv)max**"
      ]
    },
    {
      "cell_type": "code",
      "metadata": {
        "colab": {
          "base_uri": "https://localhost:8080/"
        },
        "id": "BbyKLYaOpXbA",
        "outputId": "ffdb009c-1b5a-4e63-87e0-d489f44d5fd8"
      },
      "source": [
        "#return the highest value of the inputted values\n",
        "\n",
        "list1 = ['xyz', 'zara', 'abc']\n",
        "list2 = [456, 700, 200]\n",
        "print(max(list1))\n",
        "print(max(list2))"
      ],
      "execution_count": null,
      "outputs": [
        {
          "output_type": "stream",
          "name": "stdout",
          "text": [
            "zara\n",
            "700\n"
          ]
        }
      ]
    },
    {
      "cell_type": "markdown",
      "metadata": {
        "id": "uAHwT37krRx0"
      },
      "source": [
        "**(v)min**"
      ]
    },
    {
      "cell_type": "code",
      "metadata": {
        "colab": {
          "base_uri": "https://localhost:8080/"
        },
        "id": "R9xtLNkNrWrm",
        "outputId": "17185463-97ad-4837-cb7d-e0295ebaf9d8"
      },
      "source": [
        "#return the lowest value of the inputted values\n",
        "\n",
        "print(min(list1))\n",
        "print(min(list2))"
      ],
      "execution_count": null,
      "outputs": [
        {
          "output_type": "stream",
          "name": "stdout",
          "text": [
            "abc\n",
            "200\n"
          ]
        }
      ]
    },
    {
      "cell_type": "markdown",
      "metadata": {
        "id": "Xf8Dk1kVr0X7"
      },
      "source": [
        "**(vi) list**"
      ]
    },
    {
      "cell_type": "code",
      "metadata": {
        "colab": {
          "base_uri": "https://localhost:8080/"
        },
        "id": "Eq6_WSIGr5aX",
        "outputId": "f4cb3270-a28e-46b2-d552-006ecc68bc62"
      },
      "source": [
        "#takes an iterable construct and turns it into a list\n",
        "print(list())\n",
        "\n",
        "# tuple of stock prices\n",
        "stocks = ('238.11', '237.81', '238.91')\n",
        "print(list(stocks))"
      ],
      "execution_count": null,
      "outputs": [
        {
          "output_type": "stream",
          "name": "stdout",
          "text": [
            "[]\n",
            "['238.11', '237.81', '238.91']\n"
          ]
        }
      ]
    },
    {
      "cell_type": "markdown",
      "metadata": {
        "id": "jtttj6MEskSQ"
      },
      "source": [
        "**(vii)index**"
      ]
    },
    {
      "cell_type": "code",
      "metadata": {
        "colab": {
          "base_uri": "https://localhost:8080/"
        },
        "id": "Mv0kh0ZCspyo",
        "outputId": "ed6d0ba6-e46d-41f8-d995-c98ff530e5c2"
      },
      "source": [
        "#returns the first appearance of the specified value.\n",
        "months = ['January', 'February', 'March']\n",
        "prices = [238.11, 237.81, 238.91]\n",
        "months.index('February')"
      ],
      "execution_count": null,
      "outputs": [
        {
          "output_type": "execute_result",
          "data": {
            "text/plain": [
              "1"
            ]
          },
          "metadata": {},
          "execution_count": 57
        }
      ]
    },
    {
      "cell_type": "markdown",
      "metadata": {
        "id": "60ebyNQFt5AV"
      },
      "source": [
        "**(viii) clear**"
      ]
    },
    {
      "cell_type": "code",
      "metadata": {
        "colab": {
          "base_uri": "https://localhost:8080/"
        },
        "id": "vUmhfJwGuO0a",
        "outputId": "00eae748-6b5e-4553-9d44-5736fdccd8b3"
      },
      "source": [
        "#removes all items from the list\n",
        "\n",
        "list = [{1, 2}, ('a'), ['1.1', '2.2']]\n",
        "\n",
        "# clearing the list\n",
        "list.clear()\n",
        "\n",
        "\n",
        "print('List:', list)"
      ],
      "execution_count": null,
      "outputs": [
        {
          "output_type": "stream",
          "name": "stdout",
          "text": [
            "List: []\n"
          ]
        }
      ]
    },
    {
      "cell_type": "markdown",
      "metadata": {
        "id": "xVNNaBC8uf26"
      },
      "source": [
        "**(ix)reverse**"
      ]
    },
    {
      "cell_type": "code",
      "metadata": {
        "colab": {
          "base_uri": "https://localhost:8080/"
        },
        "id": "cQ3SVPeuun6s",
        "outputId": "2e0c4628-e34e-4187-9e87-effd31073ead"
      },
      "source": [
        "prime_numbers = [2, 3, 5, 7]\n",
        "# reverse the order of list elements\n",
        "prime_numbers.reverse()\n",
        "print('Reversed List:', prime_numbers)\n",
        "\n",
        "\n",
        "systems = ['Windows', 'macOS', 'Linux']\n",
        "print('Original List:', systems)\n",
        "\t\n",
        "# Syntax: reversed_list = systems[start:stop:step] \n",
        "reversed_list = systems[::-1]\n",
        "# updated list\n",
        "print('Updated List:', reversed_list)"
      ],
      "execution_count": null,
      "outputs": [
        {
          "output_type": "stream",
          "name": "stdout",
          "text": [
            "Reversed List: [7, 5, 3, 2]\n",
            "Original List: ['Windows', 'macOS', 'Linux']\n",
            "Updated List: ['Linux', 'macOS', 'Windows']\n"
          ]
        }
      ]
    },
    {
      "cell_type": "markdown",
      "metadata": {
        "id": "9ysgul4-vYVh"
      },
      "source": [
        "**(x)count**"
      ]
    },
    {
      "cell_type": "code",
      "metadata": {
        "colab": {
          "base_uri": "https://localhost:8080/"
        },
        "id": "ATa04YbUvkEh",
        "outputId": "48c76cd1-cb06-423f-dfcf-d113bdf47898"
      },
      "source": [
        "a = ['a','a','e','u','a']\n",
        "a.count('a')"
      ],
      "execution_count": null,
      "outputs": [
        {
          "output_type": "execute_result",
          "data": {
            "text/plain": [
              "3"
            ]
          },
          "metadata": {},
          "execution_count": 72
        }
      ]
    },
    {
      "cell_type": "markdown",
      "metadata": {
        "id": "g_vCgSGGwJiO"
      },
      "source": [
        "**3. Tuples**"
      ]
    },
    {
      "cell_type": "markdown",
      "metadata": {
        "id": "JHAT8yVtvYSZ"
      },
      "source": [
        "**(i) len**"
      ]
    },
    {
      "cell_type": "code",
      "metadata": {
        "colab": {
          "base_uri": "https://localhost:8080/"
        },
        "id": "9toU_7kiyqMB",
        "outputId": "613c15be-7d98-4b03-cda0-60a64d790939"
      },
      "source": [
        "my_tuple = (1,2,3,[6,5])\n",
        "print(len(my_tuple))"
      ],
      "execution_count": null,
      "outputs": [
        {
          "output_type": "stream",
          "name": "stdout",
          "text": [
            "4\n"
          ]
        }
      ]
    },
    {
      "cell_type": "markdown",
      "metadata": {
        "id": "OifI4q38y6zq"
      },
      "source": [
        "**(ii) max**"
      ]
    },
    {
      "cell_type": "code",
      "metadata": {
        "colab": {
          "base_uri": "https://localhost:8080/"
        },
        "id": "TTGzAoyszFz_",
        "outputId": "4f4fbc71-ba21-41dd-a0d7-8ddf3f36ca64"
      },
      "source": [
        "a = (970,350,225,789)\n",
        "print(max(a))\n",
        "\n",
        "s = (\"banana\",\"orange\",\"apple\",\"Orange\")      #o has higher ACSII value among o and O\n",
        "print(max(s))"
      ],
      "execution_count": null,
      "outputs": [
        {
          "output_type": "stream",
          "name": "stdout",
          "text": [
            "970\n",
            "orange\n"
          ]
        }
      ]
    },
    {
      "cell_type": "markdown",
      "metadata": {
        "id": "RePbP_tT0Bk1"
      },
      "source": [
        "**(iii) min**"
      ]
    },
    {
      "cell_type": "code",
      "metadata": {
        "colab": {
          "base_uri": "https://localhost:8080/"
        },
        "id": "Mmua3pl00BHu",
        "outputId": "e3af5324-e17b-4321-ff0f-5fd70678336e"
      },
      "source": [
        "print(min(a))\n",
        "print(min(s))"
      ],
      "execution_count": null,
      "outputs": [
        {
          "output_type": "stream",
          "name": "stdout",
          "text": [
            "225\n",
            "Orange\n"
          ]
        }
      ]
    },
    {
      "cell_type": "markdown",
      "metadata": {
        "id": "iv6DqnDn0X_K"
      },
      "source": [
        "**(iv) sum**"
      ]
    },
    {
      "cell_type": "code",
      "metadata": {
        "colab": {
          "base_uri": "https://localhost:8080/"
        },
        "id": "CBdI_-K20cD0",
        "outputId": "8a70cea0-eb4a-4e99-8853-ad2a51764d51"
      },
      "source": [
        "my_tupl = (55,89,77,46)\n",
        "\n",
        "sum(my_tupl)"
      ],
      "execution_count": null,
      "outputs": [
        {
          "output_type": "execute_result",
          "data": {
            "text/plain": [
              "267"
            ]
          },
          "metadata": {},
          "execution_count": 84
        }
      ]
    },
    {
      "cell_type": "markdown",
      "metadata": {
        "id": "Klou0Ou307Fl"
      },
      "source": [
        "**(v) any**"
      ]
    },
    {
      "cell_type": "code",
      "metadata": {
        "colab": {
          "base_uri": "https://localhost:8080/"
        },
        "id": "kN02C3ZE06ym",
        "outputId": "cd9f715c-7e94-4ea2-cc5b-f870b736a87c"
      },
      "source": [
        "#returns true if any of the item in tuple is true else it returns false\n",
        "# all elements are true\n",
        "t1 = (1, \"BeginnersBook\", 22)\n",
        "print(any(t1))\n",
        "\n",
        "# all elements are false\n",
        "t2 = (0, False, 0)\n",
        "print(any(t2))\n",
        "\n",
        "# one element is true others are false\n",
        "t3 = (1, 0, False)\n",
        "print(any(t3))\n",
        "\n",
        "# one element is false others are true\n",
        "t4 = (False, 1, 2, 3)\n",
        "print(any(t4))\n",
        "\n",
        "# empty tuple\n",
        "t5 = ()\n",
        "print(any(t5))"
      ],
      "execution_count": null,
      "outputs": [
        {
          "output_type": "stream",
          "name": "stdout",
          "text": [
            "True\n",
            "False\n",
            "True\n",
            "True\n",
            "False\n"
          ]
        }
      ]
    },
    {
      "cell_type": "markdown",
      "metadata": {
        "id": "0qL9HmYY1-EK"
      },
      "source": [
        "**(vi) all**"
      ]
    },
    {
      "cell_type": "code",
      "metadata": {
        "colab": {
          "base_uri": "https://localhost:8080/"
        },
        "id": "RIBYh0Gr19Yg",
        "outputId": "4b7d679b-7abb-4eb8-9f4c-320d1ed945b5"
      },
      "source": [
        "#returns true if all of the item in tuple is true else it returns false\n",
        "t1 = (1, \"BeginnersBook\", 22)\n",
        "print(all(t1))\n",
        "\n",
        "# all elements are false\n",
        "t2 = (0, False, 0)\n",
        "print(all(t2))\n",
        "\n",
        "# one element is true others are false\n",
        "t3 = (1, 0, False)\n",
        "print(all(t3))\n",
        "\n",
        "# one element is false others are true\n",
        "t4 = (False, 1, 2, 3)\n",
        "print(all(t4))\n",
        "\n",
        "# empty tuple\n",
        "t5 = ()\n",
        "print(all(t5))"
      ],
      "execution_count": null,
      "outputs": [
        {
          "output_type": "stream",
          "name": "stdout",
          "text": [
            "True\n",
            "False\n",
            "False\n",
            "False\n",
            "True\n"
          ]
        }
      ]
    },
    {
      "cell_type": "markdown",
      "metadata": {
        "id": "T7y_tB-s2pL-"
      },
      "source": [
        "**(vii) sorted**"
      ]
    },
    {
      "cell_type": "code",
      "metadata": {
        "colab": {
          "base_uri": "https://localhost:8080/"
        },
        "id": "MM8pfgPh2urW",
        "outputId": "934ebda4-3ac7-4a71-aa2a-5fecaf6d2302"
      },
      "source": [
        "a = (970,350,225,789)\n",
        "sorted(a)"
      ],
      "execution_count": null,
      "outputs": [
        {
          "output_type": "execute_result",
          "data": {
            "text/plain": [
              "[225, 350, 789, 970]"
            ]
          },
          "metadata": {},
          "execution_count": 89
        }
      ]
    },
    {
      "cell_type": "markdown",
      "metadata": {
        "id": "xV_XtQFr3KSq"
      },
      "source": [
        "**(viii)tuple**"
      ]
    },
    {
      "cell_type": "code",
      "metadata": {
        "colab": {
          "base_uri": "https://localhost:8080/"
        },
        "id": "2NWkDwfq3O81",
        "outputId": "686d310e-f652-4287-a20e-9a7d56eb5e49"
      },
      "source": [
        "a_list = [1,2,3,4,5]\n",
        "b_tuple = tuple(a_list)\n",
        "print(type(b_tuple))\n"
      ],
      "execution_count": null,
      "outputs": [
        {
          "output_type": "stream",
          "name": "stdout",
          "text": [
            "<class 'tuple'>\n"
          ]
        }
      ]
    },
    {
      "cell_type": "markdown",
      "metadata": {
        "id": "ZJN6OyRB4nAA"
      },
      "source": [
        "**(ix)index**"
      ]
    },
    {
      "cell_type": "code",
      "metadata": {
        "colab": {
          "base_uri": "https://localhost:8080/"
        },
        "id": "yyIgKjQh4sog",
        "outputId": "fff40e84-e8a0-4ec5-da8b-066a1ba1c3fd"
      },
      "source": [
        "t = (\"betty\",\"bought\",\"some\",\"bitter\",\"butter\")\n",
        "t.index(\"bitter\")"
      ],
      "execution_count": null,
      "outputs": [
        {
          "output_type": "execute_result",
          "data": {
            "text/plain": [
              "3"
            ]
          },
          "metadata": {},
          "execution_count": 92
        }
      ]
    },
    {
      "cell_type": "markdown",
      "metadata": {
        "id": "A59my1HH5BA4"
      },
      "source": [
        "**(x)count**"
      ]
    },
    {
      "cell_type": "code",
      "metadata": {
        "colab": {
          "base_uri": "https://localhost:8080/"
        },
        "id": "O6NfT7-F5Fs2",
        "outputId": "2b368bd9-f082-4364-828d-2009c794de57"
      },
      "source": [
        "t = (\"betty\",\"bought\",\"some\",\"bitter\",\"butter\",\"bought\")\n",
        "t.count(\"bought\")"
      ],
      "execution_count": null,
      "outputs": [
        {
          "output_type": "execute_result",
          "data": {
            "text/plain": [
              "2"
            ]
          },
          "metadata": {},
          "execution_count": 94
        }
      ]
    },
    {
      "cell_type": "markdown",
      "metadata": {
        "id": "RNSxRrnC5dvK"
      },
      "source": [
        "**4. dict**"
      ]
    },
    {
      "cell_type": "markdown",
      "metadata": {
        "id": "NDCyfbeR5qVx"
      },
      "source": [
        "**(i) clear**"
      ]
    },
    {
      "cell_type": "code",
      "metadata": {
        "colab": {
          "base_uri": "https://localhost:8080/"
        },
        "id": "uRolHHSm5pHC",
        "outputId": "2ff1f4aa-ac26-4668-a4ed-d354862b76c8"
      },
      "source": [
        "car = {\n",
        "  \"brand\": \"Ford\",\n",
        "  \"model\": \"Mustang\",\n",
        "  \"year\": 1964\n",
        "}\n",
        "\n",
        "car.clear()\n",
        "\n",
        "print(car)\n"
      ],
      "execution_count": null,
      "outputs": [
        {
          "output_type": "stream",
          "name": "stdout",
          "text": [
            "{}\n"
          ]
        }
      ]
    },
    {
      "cell_type": "markdown",
      "metadata": {
        "id": "W7iE7Hvj6hIQ"
      },
      "source": [
        "**(ii) copy**"
      ]
    },
    {
      "cell_type": "code",
      "metadata": {
        "colab": {
          "base_uri": "https://localhost:8080/"
        },
        "id": "cwna6dC16hx3",
        "outputId": "c22e7c1d-fc37-463e-b956-44383fb804a2"
      },
      "source": [
        "car = {\n",
        "  \"brand\": \"Ford\",\n",
        "  \"model\": \"Mustang\",\n",
        "  \"year\": 1964\n",
        "}\n",
        "\n",
        "x = car.copy()\n",
        "\n",
        "print(x)"
      ],
      "execution_count": null,
      "outputs": [
        {
          "output_type": "stream",
          "name": "stdout",
          "text": [
            "{'brand': 'Ford', 'model': 'Mustang', 'year': 1964}\n"
          ]
        }
      ]
    },
    {
      "cell_type": "markdown",
      "metadata": {
        "id": "ED5GTi9t6rLs"
      },
      "source": [
        "**(iii) fromkeys**"
      ]
    },
    {
      "cell_type": "code",
      "metadata": {
        "colab": {
          "base_uri": "https://localhost:8080/"
        },
        "id": "K0TKBfMa6r-u",
        "outputId": "143acf93-49f7-46b3-ea81-e8b3bcdec8c1"
      },
      "source": [
        "#returns a dictionary with the specified keys and the specified value.\n",
        "x = ('apple', 'banana', 'orange')\n",
        "y = 0\n",
        "\n",
        "thisdict = dict.fromkeys(x, y)\n",
        "\n",
        "print(thisdict)"
      ],
      "execution_count": null,
      "outputs": [
        {
          "output_type": "stream",
          "name": "stdout",
          "text": [
            "{'apple': 0, 'banana': 0, 'orange': 0}\n"
          ]
        }
      ]
    },
    {
      "cell_type": "markdown",
      "metadata": {
        "id": "eGBTRC4Q6-6V"
      },
      "source": [
        "**(iv)get**"
      ]
    },
    {
      "cell_type": "code",
      "metadata": {
        "colab": {
          "base_uri": "https://localhost:8080/"
        },
        "id": "VnzT8dD07HXH",
        "outputId": "13e9d4c6-b1fc-43e5-e226-81a262074c2e"
      },
      "source": [
        "#returns the value of the item with the specified key\n",
        "car = {\n",
        "  \"brand\": \"Ford\",\n",
        "  \"model\": \"Mustang\",\n",
        "  \"year\": 1964\n",
        "}\n",
        "\n",
        "x = car.get(\"model\")\n",
        "\n",
        "print(x)"
      ],
      "execution_count": null,
      "outputs": [
        {
          "output_type": "stream",
          "name": "stdout",
          "text": [
            "Mustang\n"
          ]
        }
      ]
    },
    {
      "cell_type": "markdown",
      "metadata": {
        "id": "pniDdy3W7TfH"
      },
      "source": [
        "**(v)copy**"
      ]
    },
    {
      "cell_type": "code",
      "metadata": {
        "colab": {
          "base_uri": "https://localhost:8080/"
        },
        "id": "Ynn3T7fN76BU",
        "outputId": "99ab9a63-fbdc-4c04-d170-fc9b3841c435"
      },
      "source": [
        "Dict = {'Tim': 18,'Charlie':12,'Tiffany':22,'Robert':25}\t\n",
        "Boys = {'Tim': 18,'Charlie':12,'Robert':25}\n",
        "Girls = {'Tiffany':22}\t\n",
        "studentX=Boys.copy()\n",
        "studentY=Girls.copy()\n",
        "print(studentX)\n",
        "print(studentY)"
      ],
      "execution_count": null,
      "outputs": [
        {
          "output_type": "stream",
          "name": "stdout",
          "text": [
            "{'Tim': 18, 'Charlie': 12, 'Robert': 25}\n",
            "{'Tiffany': 22}\n"
          ]
        }
      ]
    },
    {
      "cell_type": "markdown",
      "metadata": {
        "id": "_mao-kDm8vDF"
      },
      "source": [
        "**(vi) update**"
      ]
    },
    {
      "cell_type": "code",
      "metadata": {
        "colab": {
          "base_uri": "https://localhost:8080/"
        },
        "id": "sqZ0m1Vs800A",
        "outputId": "a5f3c16c-91ea-446c-e1c7-8552909f397e"
      },
      "source": [
        "Dict = {'Tim': 18,'Charlie':12,'Tiffany':22,'Robert':25}\t\n",
        "Dict.update({\"Sarah\":9})\n",
        "print(Dict)"
      ],
      "execution_count": null,
      "outputs": [
        {
          "output_type": "stream",
          "name": "stdout",
          "text": [
            "{'Tim': 18, 'Charlie': 12, 'Tiffany': 22, 'Robert': 25, 'Sarah': 9}\n"
          ]
        }
      ]
    },
    {
      "cell_type": "markdown",
      "metadata": {
        "id": "nInBpw3R9cYA"
      },
      "source": [
        "**(vii)setdefault**"
      ]
    },
    {
      "cell_type": "code",
      "metadata": {
        "colab": {
          "base_uri": "https://localhost:8080/"
        },
        "id": "JI2uAqga-Gw8",
        "outputId": "e11625da-7a0c-4547-f55f-c4f1c93fb973"
      },
      "source": [
        "Dictionary1 = { 'A': 'Good', 'B': 'better', 'C': 'best'}\n",
        " \n",
        "# using setdefault() method\n",
        "Third_value = Dictionary1.setdefault('C')\n",
        "print(\"Dictionary:\", Dictionary1)\n",
        "print(\"Third_value:\", Third_value)"
      ],
      "execution_count": null,
      "outputs": [
        {
          "output_type": "stream",
          "name": "stdout",
          "text": [
            "Dictionary: {'A': 'Good', 'B': 'better', 'C': 'best'}\n",
            "Third_value: best\n"
          ]
        }
      ]
    },
    {
      "cell_type": "markdown",
      "metadata": {
        "id": "qm3RqvRN-R4W"
      },
      "source": [
        "**(viii) pop**"
      ]
    },
    {
      "cell_type": "code",
      "metadata": {
        "colab": {
          "base_uri": "https://localhost:8080/"
        },
        "id": "gQmy7oU8-sqc",
        "outputId": "bbc536aa-3735-42d9-8036-62872403805b"
      },
      "source": [
        "dic1 = {\"Nikhila\": 7, \"Akshatha\": 1, \"Akash\": 2}\n",
        "print(dic1)\n",
        "pop_first = dic1.pop(\"Nikhila\")\n",
        "print(\"after pop:\",dic1)"
      ],
      "execution_count": null,
      "outputs": [
        {
          "output_type": "stream",
          "name": "stdout",
          "text": [
            "{'Nikhila': 7, 'Akshatha': 1, 'Akash': 2}\n",
            "after pop: {'Akshatha': 1, 'Akash': 2}\n"
          ]
        }
      ]
    },
    {
      "cell_type": "markdown",
      "metadata": {
        "id": "VGza3CEz_dC0"
      },
      "source": [
        "**(ix) keys**"
      ]
    },
    {
      "cell_type": "code",
      "metadata": {
        "colab": {
          "base_uri": "https://localhost:8080/"
        },
        "id": "zzp8YwnS_gXc",
        "outputId": "d23e3122-f36a-457c-d916-dfff15aa56b7"
      },
      "source": [
        "#returns a view object\n",
        "person = {'name': 'Phill', 'age': 22, 'salary': 3500.0}\n",
        "print(person.keys())"
      ],
      "execution_count": null,
      "outputs": [
        {
          "output_type": "stream",
          "name": "stdout",
          "text": [
            "dict_keys(['name', 'age', 'salary'])\n"
          ]
        }
      ]
    },
    {
      "cell_type": "markdown",
      "metadata": {
        "id": "tqmM5EHCALM9"
      },
      "source": [
        "**(x)items**"
      ]
    },
    {
      "cell_type": "code",
      "metadata": {
        "colab": {
          "base_uri": "https://localhost:8080/"
        },
        "id": "FQg8JREhAcgh",
        "outputId": "c15acb9a-b6df-4abc-d0f1-7e0b8c823c37"
      },
      "source": [
        "#returns a view object that displays a list of dictionary's (key, value) tuple pairs.\n",
        "marks = {'Physics':67, 'Maths':87}\n",
        "\n",
        "print(marks.items())"
      ],
      "execution_count": null,
      "outputs": [
        {
          "output_type": "stream",
          "name": "stdout",
          "text": [
            "dict_items([('Physics', 67), ('Maths', 87)])\n"
          ]
        }
      ]
    }
  ]
}